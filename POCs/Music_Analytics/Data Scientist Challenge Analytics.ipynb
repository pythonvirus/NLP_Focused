{
 "cells": [
  {
   "cell_type": "markdown",
   "metadata": {},
   "source": [
    "## Data Scientist Challenge"
   ]
  },
  {
   "cell_type": "markdown",
   "metadata": {},
   "source": [
    "#### Question 1"
   ]
  },
  {
   "cell_type": "markdown",
   "metadata": {},
   "source": [
    "##### Listening behavior on playlists is analyzed using the following tables:\n",
    "● playlists table with columns:\n",
    "\n",
    "○ user_id : the user who uploaded the playlist\n",
    "\n",
    "○ playlist_id : the unique identifier of the playlist\n",
    "\n",
    "● listings table with columns:\n",
    "\n",
    "○ playlist_id : the unique identifier of the playlist\n",
    "\n",
    "○ track_id : the unique identifier of the track\n",
    "\n",
    "○ position : the position of this track in the playlist\n",
    "\n",
    "○ track_duration : the length of the track recording (in milliseconds)\n",
    "\n",
    "● plays table with columns:\n",
    "\n",
    "○ timestamp : the time the play occurred\n",
    "\n",
    "○ user_id : the user who played the given track\n",
    "\n",
    "○ track_id : the unique identifier of the track\n",
    "\n",
    "○ playlist_id : the unique identifier of the playlist (set to 0 if the play did not happen in a playlist)\n",
    "\n",
    "○ listening_duration : the duration that the user listened to the track (in milliseconds)"
   ]
  },
  {
   "cell_type": "markdown",
   "metadata": {},
   "source": [
    "### 1.1 Given a user X, what are their 3 most listened to playlists?"
   ]
  },
  {
   "cell_type": "markdown",
   "metadata": {},
   "source": [
    "###### Approach\n",
    "1. Inner query will return the listned playlist of user x & outer query return the top 3 playlist id of User X.\n",
    "\n",
    "2.  \"X user id\" is placeholder to replace the user id of X."
   ]
  },
  {
   "cell_type": "code",
   "execution_count": null,
   "metadata": {},
   "outputs": [],
   "source": [
    "Select playlist_id \n",
    "(Select \n",
    "playlist_id, \n",
    "sum(listening_duration) as \"Duration\"\n",
    "from plays where user_id=\"X user id\" \n",
    "Group by playlist_id\n",
    "Order by Duration desc) a \n",
    "where rownum<=3 "
   ]
  },
  {
   "cell_type": "markdown",
   "metadata": {},
   "source": [
    "### 1.2 What is the percentage of users that create playlists only containing dj-sets? Assume a dj-set is a track with a duration longer than 10min.\n"
   ]
  },
  {
   "cell_type": "markdown",
   "metadata": {},
   "source": [
    "###### Approach\n",
    "1. Couting the distinct customer of playlist in which all track have duration more than 10 min & on other hand counting the total distinct customer.\n",
    "\n",
    "2. Calculating the % based on above query results."
   ]
  },
  {
   "cell_type": "code",
   "execution_count": null,
   "metadata": {},
   "outputs": [],
   "source": [
    "select \n",
    "((Select count(distinct(user_id)) from listing where playlist_id in \n",
    "  (select playlist_id from listings group by playlist_id having track_duration>600000))/\n",
    " (select count(user_id) from playlist))*100 \n",
    "from dual"
   ]
  },
  {
   "cell_type": "markdown",
   "metadata": {},
   "source": [
    "### 1.3 For a user X, recommend 5 playlists they would like that they haven’t heard before. Go for a practical over elaborate solution and stick to something that works well in SQL.\n"
   ]
  },
  {
   "cell_type": "markdown",
   "metadata": {},
   "source": [
    "###### Approach 1\n",
    "Recommending the song which has listened mostly.\n",
    "\n",
    "1. Using inner query finding out the list of playlist which listend mostly but not by User X.\n",
    "2. Suggesting the top 5 playlist based on listening Duration."
   ]
  },
  {
   "cell_type": "code",
   "execution_count": null,
   "metadata": {},
   "outputs": [],
   "source": [
    "Select playlist_id \n",
    "(Select playlist_id, \n",
    "sum(listening_duration) as \"Duration\"\n",
    "from plays \n",
    "where           \n",
    "user_id !=\"X user id\" \n",
    "Group by playlist_id\n",
    "Order by Duration desc) a \n",
    "where rownum<=5 "
   ]
  },
  {
   "cell_type": "markdown",
   "metadata": {},
   "source": [
    "###### Approach 2\n",
    "User X will be more likely to listen the songs which other people listening on same timestamp.\n",
    "\n",
    "Recommending the song based on morning, afternoon, evening timestamp which will high probability user X will like it.\n",
    "\n",
    "1. Using inner query finding out the list of playlist which listend on User X timestamp but not by User X.\n",
    "2. Suggesting the top 5 playlist based on listening Duration. "
   ]
  },
  {
   "cell_type": "code",
   "execution_count": null,
   "metadata": {},
   "outputs": [],
   "source": [
    "Select playlist_id \n",
    "(Select playlist_id, \n",
    "sum(listening_duration) as \"Duration\"\n",
    "from plays \n",
    "where \n",
    "timestamp in (select timestamp from plays where user_id=\"X user id\")                   \n",
    "and user_id !=\"X user id\" \n",
    "Group by playlist_id\n",
    "Order by Duration desc) a \n",
    "where rownum<=5 "
   ]
  },
  {
   "cell_type": "markdown",
   "metadata": {},
   "source": [
    "#### In first instance, We can recommend using both approach then by doing A/B testing usasge of listner, we can verify which approach is giving good result."
   ]
  },
  {
   "cell_type": "markdown",
   "metadata": {},
   "source": [
    "## Question 2"
   ]
  },
  {
   "cell_type": "markdown",
   "metadata": {},
   "source": [
    "\n",
    "What factors affect a listener’s choice to skip a recommended track"
   ]
  },
  {
   "cell_type": "markdown",
   "metadata": {},
   "source": [
    "#### MetaData \n",
    "JSON-formatted dataset describing a sample of users’ listening behavior on queues of tracks generated by some of SoundCloud’s recommender systems. We would like to know what factors affect a listener’s choice to skip a recommended track.\n",
    "\n",
    "In this dataset, each record (i.e., each sub-list of the “data” field) represents the total amount of time the user spent listening to a track that had been recommended before a different track was played or the listening session ended.\n",
    "\n",
    "The provided attributes (in the “columns” field) are:\n",
    "\n",
    "● ts : the time the user listened to the recommended track (as Unix timestamp)\n",
    "\n",
    "● country_code : the two-character country abbreviation where the user was located at the\n",
    "time of listening\n",
    "\n",
    "● client_version : the version of the client that the listener was using\n",
    "\n",
    "● listening_context : the section of the SoundCloud web app where the user listened to the\n",
    "recommended track\n",
    "\n",
    "1. “collection”: any of the pages in the Collection section\n",
    "2. “you”: the listener’s own profile page\n",
    "3.  “search”: any of the pages in the Search experience\n",
    "4. “stream”: the page of the Stream experience\n",
    "5. “personal-recommended’: the page of the Discover experience for personalized recommendations\n",
    "6. “charts”: the page of the Charts experience for trending content discovery\n",
    "7. “tracks”: the dedicated page of an uploaded track\n",
    "8. “users”: the profile page of another user (not the one listening)\n",
    "9. “playlists”: the dedicated page of a playlist\n",
    "\n",
    "● recommender_algorithm_name : the name of the algorithm that produced the track recommendation for the listener\n",
    "\n",
    "○ “content-based”: an implementation of content-based filtering\n",
    "○ “collaborative”: an implementation of collaborative filtering\n",
    "○ “hybrid”: a hybrid implementation of content-based and collaborative filtering\n",
    "○ “fallback”: a static list of the popular tracks, used only as a fallback strategy\n",
    "\n",
    "● track_id : the unique identifier of the recommended track\n",
    "\n",
    "● track_genre_category : the broad genre category describing the recommended track\n",
    "\n",
    "● track_upload_date : the date the recommended track was uploaded (as Unix timestamp)\n",
    "\n",
    "● track_duration : the length of the recommended track recording (in milliseconds)\n",
    "\n",
    "● listen_duration : the duration that the user listened to the recommended track (in milliseconds)\n",
    "\n",
    "● listener_id : the unique identifier of the user who listened to the recommended track\n",
    "\n",
    "● listener_signup_date : the date the listener created their SoundCloud account (as Unix timestamp)\n",
    "\n",
    "● listener_top_genre_category_listened : the genre category that the user has most frequently listened to (based on all their past listening in all contexts)\n",
    "\n",
    "● listener_prev_month_listening_time : the total duration that the user listened in the previous month (in all contexts)\n",
    "\n",
    "● listener_prev_month_avg_daily_tracks_listened : the daily mean number of distinct tracks that the user listened in the previous month (in all contexts)\n",
    "\n"
   ]
  },
  {
   "cell_type": "markdown",
   "metadata": {},
   "source": [
    "### Importing the required packages"
   ]
  },
  {
   "cell_type": "code",
   "execution_count": 1,
   "metadata": {
    "scrolled": true
   },
   "outputs": [],
   "source": [
    "import pandas as pd #Used for input/output & Data exploration\n",
    "from datetime import datetime #Used for handling date columns \n",
    "import missingno #Used for Checking missing values\n",
    "import matplotlib.pyplot as plt #Used for visulization\n",
    "import seaborn as sns #Used for Visulization\n",
    "#import math\n",
    "import numpy as np\n",
    "%matplotlib inline"
   ]
  },
  {
   "cell_type": "code",
   "execution_count": 37,
   "metadata": {},
   "outputs": [],
   "source": [
    "df=pd.read_json(\"sc_data_science_challenge.json\",orient='split')"
   ]
  },
  {
   "cell_type": "code",
   "execution_count": 38,
   "metadata": {},
   "outputs": [
    {
     "data": {
      "text/plain": [
       "(828169, 15)"
      ]
     },
     "execution_count": 38,
     "metadata": {},
     "output_type": "execute_result"
    }
   ],
   "source": [
    "df.shape"
   ]
  },
  {
   "cell_type": "code",
   "execution_count": 39,
   "metadata": {},
   "outputs": [],
   "source": [
    "df.to_csv(\"music.csv\")"
   ]
  },
  {
   "cell_type": "code",
   "execution_count": 40,
   "metadata": {},
   "outputs": [
    {
     "data": {
      "text/html": [
       "<div>\n",
       "<style scoped>\n",
       "    .dataframe tbody tr th:only-of-type {\n",
       "        vertical-align: middle;\n",
       "    }\n",
       "\n",
       "    .dataframe tbody tr th {\n",
       "        vertical-align: top;\n",
       "    }\n",
       "\n",
       "    .dataframe thead th {\n",
       "        text-align: right;\n",
       "    }\n",
       "</style>\n",
       "<table border=\"1\" class=\"dataframe\">\n",
       "  <thead>\n",
       "    <tr style=\"text-align: right;\">\n",
       "      <th></th>\n",
       "      <th>ts</th>\n",
       "      <th>country_code</th>\n",
       "      <th>client_version</th>\n",
       "      <th>listening_context</th>\n",
       "      <th>recommender_algorithm_name</th>\n",
       "      <th>track_id</th>\n",
       "      <th>track_genre_category</th>\n",
       "      <th>track_upload_date</th>\n",
       "      <th>track_duration</th>\n",
       "      <th>listen_duration</th>\n",
       "      <th>listener_id</th>\n",
       "      <th>listener_signup_date</th>\n",
       "      <th>listener_top_genre_category_listened</th>\n",
       "      <th>listener_prev_month_listening_time</th>\n",
       "      <th>listener_prev_month_avg_daily_tracks_listened</th>\n",
       "    </tr>\n",
       "  </thead>\n",
       "  <tbody>\n",
       "    <tr>\n",
       "      <th>0</th>\n",
       "      <td>1467398683</td>\n",
       "      <td>GB</td>\n",
       "      <td>204.0.20</td>\n",
       "      <td>tracks</td>\n",
       "      <td>content-based</td>\n",
       "      <td>b47911d0e80d1a8a959a2b726654bbfa</td>\n",
       "      <td>Dance &amp; Electronic</td>\n",
       "      <td>1466640000</td>\n",
       "      <td>413933</td>\n",
       "      <td>413933</td>\n",
       "      <td>0001d5755511cae40e5b32d83a3decce</td>\n",
       "      <td>1324771200</td>\n",
       "      <td>HipHop &amp; R&amp;B</td>\n",
       "      <td>617270940.0</td>\n",
       "      <td>22.5</td>\n",
       "    </tr>\n",
       "    <tr>\n",
       "      <th>1</th>\n",
       "      <td>1467398924</td>\n",
       "      <td>GB</td>\n",
       "      <td>204.0.20</td>\n",
       "      <td>tracks</td>\n",
       "      <td>content-based</td>\n",
       "      <td>1f5e4bc82ba7fc802f780870f9b69191</td>\n",
       "      <td>HipHop &amp; R&amp;B</td>\n",
       "      <td>1466726400</td>\n",
       "      <td>402640</td>\n",
       "      <td>110722</td>\n",
       "      <td>0001d5755511cae40e5b32d83a3decce</td>\n",
       "      <td>1324771200</td>\n",
       "      <td>HipHop &amp; R&amp;B</td>\n",
       "      <td>617270940.0</td>\n",
       "      <td>22.5</td>\n",
       "    </tr>\n",
       "    <tr>\n",
       "      <th>2</th>\n",
       "      <td>1467820636</td>\n",
       "      <td>GB</td>\n",
       "      <td>204.0.20</td>\n",
       "      <td>users</td>\n",
       "      <td>content-based</td>\n",
       "      <td>092495283958e5d00f61cf2afe970d83</td>\n",
       "      <td>Pop</td>\n",
       "      <td>1467072000</td>\n",
       "      <td>494811</td>\n",
       "      <td>193818</td>\n",
       "      <td>0001d5755511cae40e5b32d83a3decce</td>\n",
       "      <td>1324771200</td>\n",
       "      <td>HipHop &amp; R&amp;B</td>\n",
       "      <td>617270940.0</td>\n",
       "      <td>22.5</td>\n",
       "    </tr>\n",
       "    <tr>\n",
       "      <th>3</th>\n",
       "      <td>1467401951</td>\n",
       "      <td>US</td>\n",
       "      <td>36.0.8</td>\n",
       "      <td>collection</td>\n",
       "      <td>content-based</td>\n",
       "      <td>211cd7be59941679f5ea847879b3b19b</td>\n",
       "      <td>HipHop &amp; R&amp;B</td>\n",
       "      <td>1402272000</td>\n",
       "      <td>361585</td>\n",
       "      <td>361585</td>\n",
       "      <td>000264c5b34ad04999535c8b6a8b86e2</td>\n",
       "      <td>1379376000</td>\n",
       "      <td>HipHop &amp; R&amp;B</td>\n",
       "      <td>112239180.0</td>\n",
       "      <td>10.5</td>\n",
       "    </tr>\n",
       "    <tr>\n",
       "      <th>4</th>\n",
       "      <td>1467402159</td>\n",
       "      <td>US</td>\n",
       "      <td>36.0.8</td>\n",
       "      <td>collection</td>\n",
       "      <td>content-based</td>\n",
       "      <td>0e7ca1a7524aba84473540fa0d0ec75f</td>\n",
       "      <td>Pop</td>\n",
       "      <td>1448668800</td>\n",
       "      <td>373700</td>\n",
       "      <td>160162</td>\n",
       "      <td>000264c5b34ad04999535c8b6a8b86e2</td>\n",
       "      <td>1379376000</td>\n",
       "      <td>HipHop &amp; R&amp;B</td>\n",
       "      <td>112239180.0</td>\n",
       "      <td>10.5</td>\n",
       "    </tr>\n",
       "  </tbody>\n",
       "</table>\n",
       "</div>"
      ],
      "text/plain": [
       "           ts country_code client_version listening_context  \\\n",
       "0  1467398683           GB       204.0.20            tracks   \n",
       "1  1467398924           GB       204.0.20            tracks   \n",
       "2  1467820636           GB       204.0.20             users   \n",
       "3  1467401951           US         36.0.8        collection   \n",
       "4  1467402159           US         36.0.8        collection   \n",
       "\n",
       "  recommender_algorithm_name                          track_id  \\\n",
       "0              content-based  b47911d0e80d1a8a959a2b726654bbfa   \n",
       "1              content-based  1f5e4bc82ba7fc802f780870f9b69191   \n",
       "2              content-based  092495283958e5d00f61cf2afe970d83   \n",
       "3              content-based  211cd7be59941679f5ea847879b3b19b   \n",
       "4              content-based  0e7ca1a7524aba84473540fa0d0ec75f   \n",
       "\n",
       "  track_genre_category  track_upload_date  track_duration  listen_duration  \\\n",
       "0   Dance & Electronic         1466640000          413933           413933   \n",
       "1         HipHop & R&B         1466726400          402640           110722   \n",
       "2                  Pop         1467072000          494811           193818   \n",
       "3         HipHop & R&B         1402272000          361585           361585   \n",
       "4                  Pop         1448668800          373700           160162   \n",
       "\n",
       "                        listener_id  listener_signup_date  \\\n",
       "0  0001d5755511cae40e5b32d83a3decce            1324771200   \n",
       "1  0001d5755511cae40e5b32d83a3decce            1324771200   \n",
       "2  0001d5755511cae40e5b32d83a3decce            1324771200   \n",
       "3  000264c5b34ad04999535c8b6a8b86e2            1379376000   \n",
       "4  000264c5b34ad04999535c8b6a8b86e2            1379376000   \n",
       "\n",
       "  listener_top_genre_category_listened  listener_prev_month_listening_time  \\\n",
       "0                         HipHop & R&B                         617270940.0   \n",
       "1                         HipHop & R&B                         617270940.0   \n",
       "2                         HipHop & R&B                         617270940.0   \n",
       "3                         HipHop & R&B                         112239180.0   \n",
       "4                         HipHop & R&B                         112239180.0   \n",
       "\n",
       "   listener_prev_month_avg_daily_tracks_listened  \n",
       "0                                           22.5  \n",
       "1                                           22.5  \n",
       "2                                           22.5  \n",
       "3                                           10.5  \n",
       "4                                           10.5  "
      ]
     },
     "execution_count": 40,
     "metadata": {},
     "output_type": "execute_result"
    }
   ],
   "source": [
    "df.head()"
   ]
  },
  {
   "cell_type": "markdown",
   "metadata": {},
   "source": [
    "### Handling Date columns"
   ]
  },
  {
   "cell_type": "code",
   "execution_count": 41,
   "metadata": {},
   "outputs": [],
   "source": [
    "#Convert unix timestamp to Datetime\n",
    "df['ts']=df['ts'].apply(lambda x:datetime.utcfromtimestamp(x).strftime('%Y-%m-%d %H:%M:%S'))\n",
    "df['track_upload_date']=df['track_upload_date'].apply(lambda x:datetime.utcfromtimestamp(x).strftime('%Y-%m-%d %H:%M:%S'))\n",
    "df['listener_signup_date']=df['listener_signup_date'].apply(lambda x:datetime.utcfromtimestamp(x).strftime('%Y-%m-%d %H:%M:%S'))"
   ]
  },
  {
   "cell_type": "code",
   "execution_count": 42,
   "metadata": {},
   "outputs": [
    {
     "data": {
      "text/html": [
       "<div>\n",
       "<style scoped>\n",
       "    .dataframe tbody tr th:only-of-type {\n",
       "        vertical-align: middle;\n",
       "    }\n",
       "\n",
       "    .dataframe tbody tr th {\n",
       "        vertical-align: top;\n",
       "    }\n",
       "\n",
       "    .dataframe thead th {\n",
       "        text-align: right;\n",
       "    }\n",
       "</style>\n",
       "<table border=\"1\" class=\"dataframe\">\n",
       "  <thead>\n",
       "    <tr style=\"text-align: right;\">\n",
       "      <th></th>\n",
       "      <th>ts</th>\n",
       "      <th>country_code</th>\n",
       "      <th>client_version</th>\n",
       "      <th>listening_context</th>\n",
       "      <th>recommender_algorithm_name</th>\n",
       "      <th>track_id</th>\n",
       "      <th>track_genre_category</th>\n",
       "      <th>track_upload_date</th>\n",
       "      <th>track_duration</th>\n",
       "      <th>listen_duration</th>\n",
       "      <th>listener_id</th>\n",
       "      <th>listener_signup_date</th>\n",
       "      <th>listener_top_genre_category_listened</th>\n",
       "      <th>listener_prev_month_listening_time</th>\n",
       "      <th>listener_prev_month_avg_daily_tracks_listened</th>\n",
       "    </tr>\n",
       "  </thead>\n",
       "  <tbody>\n",
       "    <tr>\n",
       "      <th>0</th>\n",
       "      <td>2016-07-01 18:44:43</td>\n",
       "      <td>GB</td>\n",
       "      <td>204.0.20</td>\n",
       "      <td>tracks</td>\n",
       "      <td>content-based</td>\n",
       "      <td>b47911d0e80d1a8a959a2b726654bbfa</td>\n",
       "      <td>Dance &amp; Electronic</td>\n",
       "      <td>2016-06-23 00:00:00</td>\n",
       "      <td>413933</td>\n",
       "      <td>413933</td>\n",
       "      <td>0001d5755511cae40e5b32d83a3decce</td>\n",
       "      <td>2011-12-25 00:00:00</td>\n",
       "      <td>HipHop &amp; R&amp;B</td>\n",
       "      <td>617270940.0</td>\n",
       "      <td>22.5</td>\n",
       "    </tr>\n",
       "    <tr>\n",
       "      <th>1</th>\n",
       "      <td>2016-07-01 18:48:44</td>\n",
       "      <td>GB</td>\n",
       "      <td>204.0.20</td>\n",
       "      <td>tracks</td>\n",
       "      <td>content-based</td>\n",
       "      <td>1f5e4bc82ba7fc802f780870f9b69191</td>\n",
       "      <td>HipHop &amp; R&amp;B</td>\n",
       "      <td>2016-06-24 00:00:00</td>\n",
       "      <td>402640</td>\n",
       "      <td>110722</td>\n",
       "      <td>0001d5755511cae40e5b32d83a3decce</td>\n",
       "      <td>2011-12-25 00:00:00</td>\n",
       "      <td>HipHop &amp; R&amp;B</td>\n",
       "      <td>617270940.0</td>\n",
       "      <td>22.5</td>\n",
       "    </tr>\n",
       "    <tr>\n",
       "      <th>2</th>\n",
       "      <td>2016-07-06 15:57:16</td>\n",
       "      <td>GB</td>\n",
       "      <td>204.0.20</td>\n",
       "      <td>users</td>\n",
       "      <td>content-based</td>\n",
       "      <td>092495283958e5d00f61cf2afe970d83</td>\n",
       "      <td>Pop</td>\n",
       "      <td>2016-06-28 00:00:00</td>\n",
       "      <td>494811</td>\n",
       "      <td>193818</td>\n",
       "      <td>0001d5755511cae40e5b32d83a3decce</td>\n",
       "      <td>2011-12-25 00:00:00</td>\n",
       "      <td>HipHop &amp; R&amp;B</td>\n",
       "      <td>617270940.0</td>\n",
       "      <td>22.5</td>\n",
       "    </tr>\n",
       "    <tr>\n",
       "      <th>3</th>\n",
       "      <td>2016-07-01 19:39:11</td>\n",
       "      <td>US</td>\n",
       "      <td>36.0.8</td>\n",
       "      <td>collection</td>\n",
       "      <td>content-based</td>\n",
       "      <td>211cd7be59941679f5ea847879b3b19b</td>\n",
       "      <td>HipHop &amp; R&amp;B</td>\n",
       "      <td>2014-06-09 00:00:00</td>\n",
       "      <td>361585</td>\n",
       "      <td>361585</td>\n",
       "      <td>000264c5b34ad04999535c8b6a8b86e2</td>\n",
       "      <td>2013-09-17 00:00:00</td>\n",
       "      <td>HipHop &amp; R&amp;B</td>\n",
       "      <td>112239180.0</td>\n",
       "      <td>10.5</td>\n",
       "    </tr>\n",
       "    <tr>\n",
       "      <th>4</th>\n",
       "      <td>2016-07-01 19:42:39</td>\n",
       "      <td>US</td>\n",
       "      <td>36.0.8</td>\n",
       "      <td>collection</td>\n",
       "      <td>content-based</td>\n",
       "      <td>0e7ca1a7524aba84473540fa0d0ec75f</td>\n",
       "      <td>Pop</td>\n",
       "      <td>2015-11-28 00:00:00</td>\n",
       "      <td>373700</td>\n",
       "      <td>160162</td>\n",
       "      <td>000264c5b34ad04999535c8b6a8b86e2</td>\n",
       "      <td>2013-09-17 00:00:00</td>\n",
       "      <td>HipHop &amp; R&amp;B</td>\n",
       "      <td>112239180.0</td>\n",
       "      <td>10.5</td>\n",
       "    </tr>\n",
       "  </tbody>\n",
       "</table>\n",
       "</div>"
      ],
      "text/plain": [
       "                    ts country_code client_version listening_context  \\\n",
       "0  2016-07-01 18:44:43           GB       204.0.20            tracks   \n",
       "1  2016-07-01 18:48:44           GB       204.0.20            tracks   \n",
       "2  2016-07-06 15:57:16           GB       204.0.20             users   \n",
       "3  2016-07-01 19:39:11           US         36.0.8        collection   \n",
       "4  2016-07-01 19:42:39           US         36.0.8        collection   \n",
       "\n",
       "  recommender_algorithm_name                          track_id  \\\n",
       "0              content-based  b47911d0e80d1a8a959a2b726654bbfa   \n",
       "1              content-based  1f5e4bc82ba7fc802f780870f9b69191   \n",
       "2              content-based  092495283958e5d00f61cf2afe970d83   \n",
       "3              content-based  211cd7be59941679f5ea847879b3b19b   \n",
       "4              content-based  0e7ca1a7524aba84473540fa0d0ec75f   \n",
       "\n",
       "  track_genre_category    track_upload_date  track_duration  listen_duration  \\\n",
       "0   Dance & Electronic  2016-06-23 00:00:00          413933           413933   \n",
       "1         HipHop & R&B  2016-06-24 00:00:00          402640           110722   \n",
       "2                  Pop  2016-06-28 00:00:00          494811           193818   \n",
       "3         HipHop & R&B  2014-06-09 00:00:00          361585           361585   \n",
       "4                  Pop  2015-11-28 00:00:00          373700           160162   \n",
       "\n",
       "                        listener_id listener_signup_date  \\\n",
       "0  0001d5755511cae40e5b32d83a3decce  2011-12-25 00:00:00   \n",
       "1  0001d5755511cae40e5b32d83a3decce  2011-12-25 00:00:00   \n",
       "2  0001d5755511cae40e5b32d83a3decce  2011-12-25 00:00:00   \n",
       "3  000264c5b34ad04999535c8b6a8b86e2  2013-09-17 00:00:00   \n",
       "4  000264c5b34ad04999535c8b6a8b86e2  2013-09-17 00:00:00   \n",
       "\n",
       "  listener_top_genre_category_listened  listener_prev_month_listening_time  \\\n",
       "0                         HipHop & R&B                         617270940.0   \n",
       "1                         HipHop & R&B                         617270940.0   \n",
       "2                         HipHop & R&B                         617270940.0   \n",
       "3                         HipHop & R&B                         112239180.0   \n",
       "4                         HipHop & R&B                         112239180.0   \n",
       "\n",
       "   listener_prev_month_avg_daily_tracks_listened  \n",
       "0                                           22.5  \n",
       "1                                           22.5  \n",
       "2                                           22.5  \n",
       "3                                           10.5  \n",
       "4                                           10.5  "
      ]
     },
     "execution_count": 42,
     "metadata": {},
     "output_type": "execute_result"
    }
   ],
   "source": [
    "df.head()"
   ]
  },
  {
   "cell_type": "code",
   "execution_count": 43,
   "metadata": {},
   "outputs": [],
   "source": [
    "def time_vars_with_day(df, var):\n",
    "    df[var +'_Year'] = pd.DatetimeIndex(df[var]).year\n",
    "        \n",
    "    df[var +'_Month'] = pd.DatetimeIndex(df[var]).month\n",
    "    \n",
    "    df[var +'_Day'] = pd.DatetimeIndex(df[var]).weekday\n",
    "    \n",
    "    df[var +'_Hour'] = pd.DatetimeIndex(df[var]).hour"
   ]
  },
  {
   "cell_type": "code",
   "execution_count": 44,
   "metadata": {},
   "outputs": [],
   "source": [
    "time_vars_with_day(df,'ts')\n",
    "time_vars_with_day(df,'track_upload_date')\n",
    "time_vars_with_day(df,'listener_signup_date')"
   ]
  },
  {
   "cell_type": "code",
   "execution_count": 45,
   "metadata": {},
   "outputs": [],
   "source": [
    "df=df.drop(['ts','track_upload_date','listener_signup_date'],axis=1)"
   ]
  },
  {
   "cell_type": "code",
   "execution_count": 46,
   "metadata": {},
   "outputs": [
    {
     "data": {
      "text/html": [
       "<div>\n",
       "<style scoped>\n",
       "    .dataframe tbody tr th:only-of-type {\n",
       "        vertical-align: middle;\n",
       "    }\n",
       "\n",
       "    .dataframe tbody tr th {\n",
       "        vertical-align: top;\n",
       "    }\n",
       "\n",
       "    .dataframe thead th {\n",
       "        text-align: right;\n",
       "    }\n",
       "</style>\n",
       "<table border=\"1\" class=\"dataframe\">\n",
       "  <thead>\n",
       "    <tr style=\"text-align: right;\">\n",
       "      <th></th>\n",
       "      <th>country_code</th>\n",
       "      <th>client_version</th>\n",
       "      <th>listening_context</th>\n",
       "      <th>recommender_algorithm_name</th>\n",
       "      <th>track_id</th>\n",
       "      <th>track_genre_category</th>\n",
       "      <th>track_duration</th>\n",
       "      <th>listen_duration</th>\n",
       "      <th>listener_id</th>\n",
       "      <th>listener_top_genre_category_listened</th>\n",
       "      <th>...</th>\n",
       "      <th>ts_Day</th>\n",
       "      <th>ts_Hour</th>\n",
       "      <th>track_upload_date_Year</th>\n",
       "      <th>track_upload_date_Month</th>\n",
       "      <th>track_upload_date_Day</th>\n",
       "      <th>track_upload_date_Hour</th>\n",
       "      <th>listener_signup_date_Year</th>\n",
       "      <th>listener_signup_date_Month</th>\n",
       "      <th>listener_signup_date_Day</th>\n",
       "      <th>listener_signup_date_Hour</th>\n",
       "    </tr>\n",
       "  </thead>\n",
       "  <tbody>\n",
       "    <tr>\n",
       "      <th>0</th>\n",
       "      <td>GB</td>\n",
       "      <td>204.0.20</td>\n",
       "      <td>tracks</td>\n",
       "      <td>content-based</td>\n",
       "      <td>b47911d0e80d1a8a959a2b726654bbfa</td>\n",
       "      <td>Dance &amp; Electronic</td>\n",
       "      <td>413933</td>\n",
       "      <td>413933</td>\n",
       "      <td>0001d5755511cae40e5b32d83a3decce</td>\n",
       "      <td>HipHop &amp; R&amp;B</td>\n",
       "      <td>...</td>\n",
       "      <td>4</td>\n",
       "      <td>18</td>\n",
       "      <td>2016</td>\n",
       "      <td>6</td>\n",
       "      <td>3</td>\n",
       "      <td>0</td>\n",
       "      <td>2011</td>\n",
       "      <td>12</td>\n",
       "      <td>6</td>\n",
       "      <td>0</td>\n",
       "    </tr>\n",
       "    <tr>\n",
       "      <th>1</th>\n",
       "      <td>GB</td>\n",
       "      <td>204.0.20</td>\n",
       "      <td>tracks</td>\n",
       "      <td>content-based</td>\n",
       "      <td>1f5e4bc82ba7fc802f780870f9b69191</td>\n",
       "      <td>HipHop &amp; R&amp;B</td>\n",
       "      <td>402640</td>\n",
       "      <td>110722</td>\n",
       "      <td>0001d5755511cae40e5b32d83a3decce</td>\n",
       "      <td>HipHop &amp; R&amp;B</td>\n",
       "      <td>...</td>\n",
       "      <td>4</td>\n",
       "      <td>18</td>\n",
       "      <td>2016</td>\n",
       "      <td>6</td>\n",
       "      <td>4</td>\n",
       "      <td>0</td>\n",
       "      <td>2011</td>\n",
       "      <td>12</td>\n",
       "      <td>6</td>\n",
       "      <td>0</td>\n",
       "    </tr>\n",
       "    <tr>\n",
       "      <th>2</th>\n",
       "      <td>GB</td>\n",
       "      <td>204.0.20</td>\n",
       "      <td>users</td>\n",
       "      <td>content-based</td>\n",
       "      <td>092495283958e5d00f61cf2afe970d83</td>\n",
       "      <td>Pop</td>\n",
       "      <td>494811</td>\n",
       "      <td>193818</td>\n",
       "      <td>0001d5755511cae40e5b32d83a3decce</td>\n",
       "      <td>HipHop &amp; R&amp;B</td>\n",
       "      <td>...</td>\n",
       "      <td>2</td>\n",
       "      <td>15</td>\n",
       "      <td>2016</td>\n",
       "      <td>6</td>\n",
       "      <td>1</td>\n",
       "      <td>0</td>\n",
       "      <td>2011</td>\n",
       "      <td>12</td>\n",
       "      <td>6</td>\n",
       "      <td>0</td>\n",
       "    </tr>\n",
       "    <tr>\n",
       "      <th>3</th>\n",
       "      <td>US</td>\n",
       "      <td>36.0.8</td>\n",
       "      <td>collection</td>\n",
       "      <td>content-based</td>\n",
       "      <td>211cd7be59941679f5ea847879b3b19b</td>\n",
       "      <td>HipHop &amp; R&amp;B</td>\n",
       "      <td>361585</td>\n",
       "      <td>361585</td>\n",
       "      <td>000264c5b34ad04999535c8b6a8b86e2</td>\n",
       "      <td>HipHop &amp; R&amp;B</td>\n",
       "      <td>...</td>\n",
       "      <td>4</td>\n",
       "      <td>19</td>\n",
       "      <td>2014</td>\n",
       "      <td>6</td>\n",
       "      <td>0</td>\n",
       "      <td>0</td>\n",
       "      <td>2013</td>\n",
       "      <td>9</td>\n",
       "      <td>1</td>\n",
       "      <td>0</td>\n",
       "    </tr>\n",
       "    <tr>\n",
       "      <th>4</th>\n",
       "      <td>US</td>\n",
       "      <td>36.0.8</td>\n",
       "      <td>collection</td>\n",
       "      <td>content-based</td>\n",
       "      <td>0e7ca1a7524aba84473540fa0d0ec75f</td>\n",
       "      <td>Pop</td>\n",
       "      <td>373700</td>\n",
       "      <td>160162</td>\n",
       "      <td>000264c5b34ad04999535c8b6a8b86e2</td>\n",
       "      <td>HipHop &amp; R&amp;B</td>\n",
       "      <td>...</td>\n",
       "      <td>4</td>\n",
       "      <td>19</td>\n",
       "      <td>2015</td>\n",
       "      <td>11</td>\n",
       "      <td>5</td>\n",
       "      <td>0</td>\n",
       "      <td>2013</td>\n",
       "      <td>9</td>\n",
       "      <td>1</td>\n",
       "      <td>0</td>\n",
       "    </tr>\n",
       "  </tbody>\n",
       "</table>\n",
       "<p>5 rows × 24 columns</p>\n",
       "</div>"
      ],
      "text/plain": [
       "  country_code client_version listening_context recommender_algorithm_name  \\\n",
       "0           GB       204.0.20            tracks              content-based   \n",
       "1           GB       204.0.20            tracks              content-based   \n",
       "2           GB       204.0.20             users              content-based   \n",
       "3           US         36.0.8        collection              content-based   \n",
       "4           US         36.0.8        collection              content-based   \n",
       "\n",
       "                           track_id track_genre_category  track_duration  \\\n",
       "0  b47911d0e80d1a8a959a2b726654bbfa   Dance & Electronic          413933   \n",
       "1  1f5e4bc82ba7fc802f780870f9b69191         HipHop & R&B          402640   \n",
       "2  092495283958e5d00f61cf2afe970d83                  Pop          494811   \n",
       "3  211cd7be59941679f5ea847879b3b19b         HipHop & R&B          361585   \n",
       "4  0e7ca1a7524aba84473540fa0d0ec75f                  Pop          373700   \n",
       "\n",
       "   listen_duration                       listener_id  \\\n",
       "0           413933  0001d5755511cae40e5b32d83a3decce   \n",
       "1           110722  0001d5755511cae40e5b32d83a3decce   \n",
       "2           193818  0001d5755511cae40e5b32d83a3decce   \n",
       "3           361585  000264c5b34ad04999535c8b6a8b86e2   \n",
       "4           160162  000264c5b34ad04999535c8b6a8b86e2   \n",
       "\n",
       "  listener_top_genre_category_listened            ...              ts_Day  \\\n",
       "0                         HipHop & R&B            ...                   4   \n",
       "1                         HipHop & R&B            ...                   4   \n",
       "2                         HipHop & R&B            ...                   2   \n",
       "3                         HipHop & R&B            ...                   4   \n",
       "4                         HipHop & R&B            ...                   4   \n",
       "\n",
       "   ts_Hour  track_upload_date_Year  track_upload_date_Month  \\\n",
       "0       18                    2016                        6   \n",
       "1       18                    2016                        6   \n",
       "2       15                    2016                        6   \n",
       "3       19                    2014                        6   \n",
       "4       19                    2015                       11   \n",
       "\n",
       "   track_upload_date_Day  track_upload_date_Hour  listener_signup_date_Year  \\\n",
       "0                      3                       0                       2011   \n",
       "1                      4                       0                       2011   \n",
       "2                      1                       0                       2011   \n",
       "3                      0                       0                       2013   \n",
       "4                      5                       0                       2013   \n",
       "\n",
       "   listener_signup_date_Month  listener_signup_date_Day  \\\n",
       "0                          12                         6   \n",
       "1                          12                         6   \n",
       "2                          12                         6   \n",
       "3                           9                         1   \n",
       "4                           9                         1   \n",
       "\n",
       "   listener_signup_date_Hour  \n",
       "0                          0  \n",
       "1                          0  \n",
       "2                          0  \n",
       "3                          0  \n",
       "4                          0  \n",
       "\n",
       "[5 rows x 24 columns]"
      ]
     },
     "execution_count": 46,
     "metadata": {},
     "output_type": "execute_result"
    }
   ],
   "source": [
    "df.head()"
   ]
  },
  {
   "cell_type": "markdown",
   "metadata": {},
   "source": [
    "### Checking missing value"
   ]
  },
  {
   "cell_type": "code",
   "execution_count": 47,
   "metadata": {},
   "outputs": [
    {
     "data": {
      "text/plain": [
       "<matplotlib.axes._subplots.AxesSubplot at 0x252f4c864e0>"
      ]
     },
     "execution_count": 47,
     "metadata": {},
     "output_type": "execute_result"
    },
    {
     "data": {
      "image/png": "[encoded data removed]",
      "text/plain": [
       "<Figure size 720x360 with 2 Axes>"
      ]
     },
     "metadata": {
      "needs_background": "light"
     },
     "output_type": "display_data"
    }
   ],
   "source": [
    "#Record Level missing value check\n",
    "\n",
    "missingno.matrix(df,figsize=(10,5))"
   ]
  },
  {
   "cell_type": "code",
   "execution_count": 48,
   "metadata": {},
   "outputs": [
    {
     "data": {
      "text/plain": [
       "<matplotlib.axes._subplots.AxesSubplot at 0x252e5c16080>"
      ]
     },
     "execution_count": 48,
     "metadata": {},
     "output_type": "execute_result"
    },
    {
     "data": {
      "image/png": "[encoded data removed]",
      "text/plain": [
       "<Figure size 720x360 with 3 Axes>"
      ]
     },
     "metadata": {
      "needs_background": "light"
     },
     "output_type": "display_data"
    }
   ],
   "source": [
    "#Missing value distribution\n",
    "missingno.bar(df,figsize=(10,5))"
   ]
  },
  {
   "cell_type": "code",
   "execution_count": 49,
   "metadata": {},
   "outputs": [
    {
     "data": {
      "text/plain": [
       "<matplotlib.axes._subplots.AxesSubplot at 0x252efe4f3c8>"
      ]
     },
     "execution_count": 49,
     "metadata": {},
     "output_type": "execute_result"
    },
    {
     "data": {
      "image/png": "[encoded data removed]",
      "text/plain": [
       "<Figure size 720x360 with 1 Axes>"
      ]
     },
     "metadata": {
      "needs_background": "light"
     },
     "output_type": "display_data"
    }
   ],
   "source": [
    "#Cross Section in Missing Values columns\n",
    "missingno.heatmap(df,figsize=(10,5))"
   ]
  },
  {
   "cell_type": "markdown",
   "metadata": {},
   "source": [
    "###### Missing %"
   ]
  },
  {
   "cell_type": "code",
   "execution_count": 50,
   "metadata": {},
   "outputs": [
    {
     "name": "stdout",
     "output_type": "stream",
     "text": [
      "Missing % in listener_prev_month_listening_time 8.0 2\n",
      "Missing % in listener_prev_month_avg_daily_tracks_listened 8.0 2\n",
      "Missing % in listener_top_genre_category_listened 0.0 2\n"
     ]
    }
   ],
   "source": [
    "print(\"Missing % in listener_prev_month_listening_time\",round((df['listener_prev_month_listening_time'].isnull().sum()/df['listener_prev_month_listening_time'].count())*100),2)\n",
    "\n",
    "print(\"Missing % in listener_prev_month_avg_daily_tracks_listened\",round((df['listener_prev_month_avg_daily_tracks_listened'].isnull().sum()/df['listener_prev_month_avg_daily_tracks_listened'].count())*100),2)\n",
    "\n",
    "print(\"Missing % in listener_top_genre_category_listened\",round((df['listener_top_genre_category_listened'].isnull().sum()/df['listener_top_genre_category_listened'].count())*100),2)"
   ]
  },
  {
   "cell_type": "markdown",
   "metadata": {},
   "source": [
    "#### Missing Value check Summary\n",
    "\n",
    "Below columns are having missing value which means we haven't captured information for some listner.\n",
    "\n",
    "1. listener_top_genre_category_listened              3777\n",
    "2. listener_prev_month_listening_time                61608\n",
    "3. listener_prev_month_avg_daily_tracks_listened     61608\n",
    "\n",
    "Hypothesis is 8 % of listner may not listen the song in previous month or we were not able to capture the information.\n",
    "\n",
    "So Based on above hypothesis removing the missing listner records."
   ]
  },
  {
   "cell_type": "code",
   "execution_count": 51,
   "metadata": {},
   "outputs": [],
   "source": [
    "df=df.dropna()"
   ]
  },
  {
   "cell_type": "code",
   "execution_count": 52,
   "metadata": {},
   "outputs": [
    {
     "data": {
      "text/plain": [
       "(765092, 24)"
      ]
     },
     "execution_count": 52,
     "metadata": {},
     "output_type": "execute_result"
    }
   ],
   "source": [
    "df.shape"
   ]
  },
  {
   "cell_type": "markdown",
   "metadata": {},
   "source": [
    "#### Adding derived columns"
   ]
  },
  {
   "cell_type": "code",
   "execution_count": 53,
   "metadata": {},
   "outputs": [],
   "source": [
    "df['duration_diff']=df['track_duration']-df['listen_duration']"
   ]
  },
  {
   "cell_type": "code",
   "execution_count": 54,
   "metadata": {},
   "outputs": [
    {
     "data": {
      "text/html": [
       "<div>\n",
       "<style scoped>\n",
       "    .dataframe tbody tr th:only-of-type {\n",
       "        vertical-align: middle;\n",
       "    }\n",
       "\n",
       "    .dataframe tbody tr th {\n",
       "        vertical-align: top;\n",
       "    }\n",
       "\n",
       "    .dataframe thead th {\n",
       "        text-align: right;\n",
       "    }\n",
       "</style>\n",
       "<table border=\"1\" class=\"dataframe\">\n",
       "  <thead>\n",
       "    <tr style=\"text-align: right;\">\n",
       "      <th></th>\n",
       "      <th>track_duration</th>\n",
       "      <th>listen_duration</th>\n",
       "      <th>duration_diff</th>\n",
       "    </tr>\n",
       "  </thead>\n",
       "  <tbody>\n",
       "    <tr>\n",
       "      <th>0</th>\n",
       "      <td>413933</td>\n",
       "      <td>413933</td>\n",
       "      <td>0</td>\n",
       "    </tr>\n",
       "    <tr>\n",
       "      <th>1</th>\n",
       "      <td>402640</td>\n",
       "      <td>110722</td>\n",
       "      <td>291918</td>\n",
       "    </tr>\n",
       "    <tr>\n",
       "      <th>2</th>\n",
       "      <td>494811</td>\n",
       "      <td>193818</td>\n",
       "      <td>300993</td>\n",
       "    </tr>\n",
       "    <tr>\n",
       "      <th>3</th>\n",
       "      <td>361585</td>\n",
       "      <td>361585</td>\n",
       "      <td>0</td>\n",
       "    </tr>\n",
       "    <tr>\n",
       "      <th>4</th>\n",
       "      <td>373700</td>\n",
       "      <td>160162</td>\n",
       "      <td>213538</td>\n",
       "    </tr>\n",
       "  </tbody>\n",
       "</table>\n",
       "</div>"
      ],
      "text/plain": [
       "   track_duration  listen_duration  duration_diff\n",
       "0          413933           413933              0\n",
       "1          402640           110722         291918\n",
       "2          494811           193818         300993\n",
       "3          361585           361585              0\n",
       "4          373700           160162         213538"
      ]
     },
     "execution_count": 54,
     "metadata": {},
     "output_type": "execute_result"
    }
   ],
   "source": [
    "df.loc[:,['track_duration','listen_duration','duration_diff']].head()"
   ]
  },
  {
   "cell_type": "code",
   "execution_count": 55,
   "metadata": {},
   "outputs": [],
   "source": [
    "#Handling client version\n",
    "df['client_ver_level1']=df.client_version.str.split(\".\").str[0].tolist()\n",
    "df['client_ver_level2']=df.client_version.str.split(\".\").str[1].tolist()\n",
    "df['client_ver_level3']=df.client_version.str.split(\".\").str[2].tolist()\n"
   ]
  },
  {
   "cell_type": "code",
   "execution_count": 56,
   "metadata": {},
   "outputs": [],
   "source": [
    "# using dictionary to convert specific columns to required data types\n",
    "convert_dict = {'ts_Year': object, \n",
    "                'ts_Month': object,\n",
    "                'ts_Day': object,\n",
    "                'ts_Hour': object,\n",
    "                'track_upload_date_Year':object,\n",
    "                'track_upload_date_Month':object,\n",
    "                 'track_upload_date_Day':object,\n",
    "                  'track_upload_date_Hour':object,\n",
    "                'listener_signup_date_Year':object,\n",
    "                'listener_signup_date_Month':object,\n",
    "                'listener_signup_date_Day':object,\n",
    "                'listener_signup_date_Hour':object,                       \n",
    "               } \n",
    "  \n",
    "df = df.astype(convert_dict) \n",
    "#print(df.dtypes) "
   ]
  },
  {
   "cell_type": "markdown",
   "metadata": {},
   "source": [
    "#### Droping  columns"
   ]
  },
  {
   "cell_type": "code",
   "execution_count": 57,
   "metadata": {},
   "outputs": [],
   "source": [
    "#Removing the track_upload_date_Hour & listener_signup_date_Hour as both are having 0 hours only.\n",
    "#Removing ts_year as it just have 2016 for all the records.\n",
    "#Removing id columns 'track_id' & 'listener_id'\n",
    "\n",
    "data=df.drop(['client_version','track_upload_date_Hour',\n",
    "              'listener_signup_date_Hour','ts_Year','track_id','listener_id'],axis=1)"
   ]
  },
  {
   "cell_type": "markdown",
   "metadata": {},
   "source": [
    "#### Descriptive Analytics of data"
   ]
  },
  {
   "cell_type": "code",
   "execution_count": 58,
   "metadata": {
    "scrolled": true
   },
   "outputs": [
    {
     "data": {
      "text/html": [
       "<div>\n",
       "<style scoped>\n",
       "    .dataframe tbody tr th:only-of-type {\n",
       "        vertical-align: middle;\n",
       "    }\n",
       "\n",
       "    .dataframe tbody tr th {\n",
       "        vertical-align: top;\n",
       "    }\n",
       "\n",
       "    .dataframe thead th {\n",
       "        text-align: right;\n",
       "    }\n",
       "</style>\n",
       "<table border=\"1\" class=\"dataframe\">\n",
       "  <thead>\n",
       "    <tr style=\"text-align: right;\">\n",
       "      <th></th>\n",
       "      <th>track_duration</th>\n",
       "      <th>listen_duration</th>\n",
       "      <th>listener_prev_month_listening_time</th>\n",
       "      <th>listener_prev_month_avg_daily_tracks_listened</th>\n",
       "      <th>duration_diff</th>\n",
       "    </tr>\n",
       "  </thead>\n",
       "  <tbody>\n",
       "    <tr>\n",
       "      <th>count</th>\n",
       "      <td>7.650920e+05</td>\n",
       "      <td>7.650920e+05</td>\n",
       "      <td>7.650920e+05</td>\n",
       "      <td>765092.000000</td>\n",
       "      <td>7.650920e+05</td>\n",
       "    </tr>\n",
       "    <tr>\n",
       "      <th>mean</th>\n",
       "      <td>5.226777e+05</td>\n",
       "      <td>2.982132e+05</td>\n",
       "      <td>7.960725e+09</td>\n",
       "      <td>45.794938</td>\n",
       "      <td>2.244645e+05</td>\n",
       "    </tr>\n",
       "    <tr>\n",
       "      <th>std</th>\n",
       "      <td>9.907958e+05</td>\n",
       "      <td>5.270887e+05</td>\n",
       "      <td>1.011642e+10</td>\n",
       "      <td>43.165134</td>\n",
       "      <td>8.619153e+05</td>\n",
       "    </tr>\n",
       "    <tr>\n",
       "      <th>min</th>\n",
       "      <td>0.000000e+00</td>\n",
       "      <td>-7.049300e+04</td>\n",
       "      <td>0.000000e+00</td>\n",
       "      <td>1.500000</td>\n",
       "      <td>-2.393515e+07</td>\n",
       "    </tr>\n",
       "    <tr>\n",
       "      <th>25%</th>\n",
       "      <td>3.025630e+05</td>\n",
       "      <td>3.969700e+04</td>\n",
       "      <td>1.183196e+09</td>\n",
       "      <td>16.500000</td>\n",
       "      <td>0.000000e+00</td>\n",
       "    </tr>\n",
       "    <tr>\n",
       "      <th>50%</th>\n",
       "      <td>3.743880e+05</td>\n",
       "      <td>2.785620e+05</td>\n",
       "      <td>4.417111e+09</td>\n",
       "      <td>33.000000</td>\n",
       "      <td>0.000000e+00</td>\n",
       "    </tr>\n",
       "    <tr>\n",
       "      <th>75%</th>\n",
       "      <td>4.530220e+05</td>\n",
       "      <td>3.950080e+05</td>\n",
       "      <td>1.101478e+10</td>\n",
       "      <td>61.500000</td>\n",
       "      <td>2.856032e+05</td>\n",
       "    </tr>\n",
       "    <tr>\n",
       "      <th>max</th>\n",
       "      <td>4.200407e+07</td>\n",
       "      <td>3.465427e+07</td>\n",
       "      <td>1.264765e+11</td>\n",
       "      <td>637.500000</td>\n",
       "      <td>4.188594e+07</td>\n",
       "    </tr>\n",
       "  </tbody>\n",
       "</table>\n",
       "</div>"
      ],
      "text/plain": [
       "       track_duration  listen_duration  listener_prev_month_listening_time  \\\n",
       "count    7.650920e+05     7.650920e+05                        7.650920e+05   \n",
       "mean     5.226777e+05     2.982132e+05                        7.960725e+09   \n",
       "std      9.907958e+05     5.270887e+05                        1.011642e+10   \n",
       "min      0.000000e+00    -7.049300e+04                        0.000000e+00   \n",
       "25%      3.025630e+05     3.969700e+04                        1.183196e+09   \n",
       "50%      3.743880e+05     2.785620e+05                        4.417111e+09   \n",
       "75%      4.530220e+05     3.950080e+05                        1.101478e+10   \n",
       "max      4.200407e+07     3.465427e+07                        1.264765e+11   \n",
       "\n",
       "       listener_prev_month_avg_daily_tracks_listened  duration_diff  \n",
       "count                                  765092.000000   7.650920e+05  \n",
       "mean                                       45.794938   2.244645e+05  \n",
       "std                                        43.165134   8.619153e+05  \n",
       "min                                         1.500000  -2.393515e+07  \n",
       "25%                                        16.500000   0.000000e+00  \n",
       "50%                                        33.000000   0.000000e+00  \n",
       "75%                                        61.500000   2.856032e+05  \n",
       "max                                       637.500000   4.188594e+07  "
      ]
     },
     "execution_count": 58,
     "metadata": {},
     "output_type": "execute_result"
    }
   ],
   "source": [
    "data.describe()"
   ]
  },
  {
   "cell_type": "code",
   "execution_count": 59,
   "metadata": {},
   "outputs": [
    {
     "data": {
      "text/html": [
       "<div>\n",
       "<style scoped>\n",
       "    .dataframe tbody tr th:only-of-type {\n",
       "        vertical-align: middle;\n",
       "    }\n",
       "\n",
       "    .dataframe tbody tr th {\n",
       "        vertical-align: top;\n",
       "    }\n",
       "\n",
       "    .dataframe thead th {\n",
       "        text-align: right;\n",
       "    }\n",
       "</style>\n",
       "<table border=\"1\" class=\"dataframe\">\n",
       "  <thead>\n",
       "    <tr style=\"text-align: right;\">\n",
       "      <th></th>\n",
       "      <th>country_code</th>\n",
       "      <th>listening_context</th>\n",
       "      <th>recommender_algorithm_name</th>\n",
       "      <th>track_genre_category</th>\n",
       "      <th>listener_top_genre_category_listened</th>\n",
       "      <th>ts_Month</th>\n",
       "      <th>ts_Day</th>\n",
       "      <th>ts_Hour</th>\n",
       "      <th>track_upload_date_Year</th>\n",
       "      <th>track_upload_date_Month</th>\n",
       "      <th>track_upload_date_Day</th>\n",
       "      <th>listener_signup_date_Year</th>\n",
       "      <th>listener_signup_date_Month</th>\n",
       "      <th>listener_signup_date_Day</th>\n",
       "      <th>client_ver_level1</th>\n",
       "      <th>client_ver_level2</th>\n",
       "      <th>client_ver_level3</th>\n",
       "    </tr>\n",
       "  </thead>\n",
       "  <tbody>\n",
       "    <tr>\n",
       "      <th>count</th>\n",
       "      <td>765092</td>\n",
       "      <td>765092</td>\n",
       "      <td>765092</td>\n",
       "      <td>765092</td>\n",
       "      <td>765092</td>\n",
       "      <td>765092</td>\n",
       "      <td>765092</td>\n",
       "      <td>765092</td>\n",
       "      <td>765092</td>\n",
       "      <td>765092</td>\n",
       "      <td>765092</td>\n",
       "      <td>765092</td>\n",
       "      <td>765092</td>\n",
       "      <td>765092</td>\n",
       "      <td>765092</td>\n",
       "      <td>765092</td>\n",
       "      <td>765092</td>\n",
       "    </tr>\n",
       "    <tr>\n",
       "      <th>unique</th>\n",
       "      <td>2</td>\n",
       "      <td>9</td>\n",
       "      <td>4</td>\n",
       "      <td>13</td>\n",
       "      <td>12</td>\n",
       "      <td>2</td>\n",
       "      <td>7</td>\n",
       "      <td>24</td>\n",
       "      <td>10</td>\n",
       "      <td>12</td>\n",
       "      <td>7</td>\n",
       "      <td>10</td>\n",
       "      <td>12</td>\n",
       "      <td>7</td>\n",
       "      <td>47</td>\n",
       "      <td>14</td>\n",
       "      <td>9</td>\n",
       "    </tr>\n",
       "    <tr>\n",
       "      <th>top</th>\n",
       "      <td>US</td>\n",
       "      <td>tracks</td>\n",
       "      <td>content-based</td>\n",
       "      <td>HipHop &amp; R&amp;B</td>\n",
       "      <td>HipHop &amp; R&amp;B</td>\n",
       "      <td>7</td>\n",
       "      <td>6</td>\n",
       "      <td>21</td>\n",
       "      <td>2016</td>\n",
       "      <td>6</td>\n",
       "      <td>0</td>\n",
       "      <td>2015</td>\n",
       "      <td>3</td>\n",
       "      <td>0</td>\n",
       "      <td>204</td>\n",
       "      <td>0</td>\n",
       "      <td>0</td>\n",
       "    </tr>\n",
       "    <tr>\n",
       "      <th>freq</th>\n",
       "      <td>484990</td>\n",
       "      <td>443121</td>\n",
       "      <td>685582</td>\n",
       "      <td>407113</td>\n",
       "      <td>506331</td>\n",
       "      <td>652686</td>\n",
       "      <td>127757</td>\n",
       "      <td>45610</td>\n",
       "      <td>309408</td>\n",
       "      <td>130076</td>\n",
       "      <td>129604</td>\n",
       "      <td>188183</td>\n",
       "      <td>77418</td>\n",
       "      <td>122250</td>\n",
       "      <td>506766</td>\n",
       "      <td>716447</td>\n",
       "      <td>554208</td>\n",
       "    </tr>\n",
       "  </tbody>\n",
       "</table>\n",
       "</div>"
      ],
      "text/plain": [
       "       country_code listening_context recommender_algorithm_name  \\\n",
       "count        765092            765092                     765092   \n",
       "unique            2                 9                          4   \n",
       "top              US            tracks              content-based   \n",
       "freq         484990            443121                     685582   \n",
       "\n",
       "       track_genre_category listener_top_genre_category_listened  ts_Month  \\\n",
       "count                765092                               765092    765092   \n",
       "unique                   13                                   12         2   \n",
       "top            HipHop & R&B                         HipHop & R&B         7   \n",
       "freq                 407113                               506331    652686   \n",
       "\n",
       "        ts_Day  ts_Hour  track_upload_date_Year  track_upload_date_Month  \\\n",
       "count   765092   765092                  765092                   765092   \n",
       "unique       7       24                      10                       12   \n",
       "top          6       21                    2016                        6   \n",
       "freq    127757    45610                  309408                   130076   \n",
       "\n",
       "        track_upload_date_Day  listener_signup_date_Year  \\\n",
       "count                  765092                     765092   \n",
       "unique                      7                         10   \n",
       "top                         0                       2015   \n",
       "freq                   129604                     188183   \n",
       "\n",
       "        listener_signup_date_Month  listener_signup_date_Day  \\\n",
       "count                       765092                    765092   \n",
       "unique                          12                         7   \n",
       "top                              3                         0   \n",
       "freq                         77418                    122250   \n",
       "\n",
       "       client_ver_level1 client_ver_level2 client_ver_level3  \n",
       "count             765092            765092            765092  \n",
       "unique                47                14                 9  \n",
       "top                  204                 0                 0  \n",
       "freq              506766            716447            554208  "
      ]
     },
     "execution_count": 59,
     "metadata": {},
     "output_type": "execute_result"
    }
   ],
   "source": [
    "data.describe(include=['O'])"
   ]
  },
  {
   "cell_type": "code",
   "execution_count": 60,
   "metadata": {},
   "outputs": [],
   "source": [
    "#Writing back to do data exploration usig Tableau\n",
    "#df.to_csv('songdata.csv')"
   ]
  },
  {
   "cell_type": "markdown",
   "metadata": {},
   "source": [
    "### Feature Encoding"
   ]
  },
  {
   "cell_type": "markdown",
   "metadata": {},
   "source": [
    "#### 1. One hot encoding"
   ]
  },
  {
   "cell_type": "code",
   "execution_count": 61,
   "metadata": {},
   "outputs": [],
   "source": [
    "country=pd.get_dummies(data['country_code'],drop_first=True)\n",
    "context=pd.get_dummies(data['listening_context'],drop_first=True)\n",
    "algo=pd.get_dummies(data['recommender_algorithm_name'],drop_first=True)\n",
    "trackgenre=pd.get_dummies(data['track_genre_category'],drop_first=True)\n",
    "listnergenre=pd.get_dummies(data['listener_top_genre_category_listened'],drop_first=True)\n"
   ]
  },
  {
   "cell_type": "code",
   "execution_count": 62,
   "metadata": {},
   "outputs": [],
   "source": [
    "data =pd.concat([data,country,context,algo,trackgenre,listnergenre],axis=1)"
   ]
  },
  {
   "cell_type": "code",
   "execution_count": 63,
   "metadata": {},
   "outputs": [],
   "source": [
    "#Removing one hot encoded base columns\n",
    "\n",
    "data=data.drop(['country_code','listening_context','recommender_algorithm_name',\n",
    "                'track_genre_category','listener_top_genre_category_listened'],axis=1)"
   ]
  },
  {
   "cell_type": "markdown",
   "metadata": {},
   "source": [
    "#### 2. Ordinal Encoding"
   ]
  },
  {
   "cell_type": "code",
   "execution_count": 71,
   "metadata": {},
   "outputs": [],
   "source": [
    "def order_encod(data,column):\n",
    "    cats = list(data.groupby([column])['duration_diff'].mean().sort_values().index)\n",
    "    cats\n",
    "    ord_dict = {}\n",
    "    i=0\n",
    "    for cat in cats:\n",
    "        ord_dict[cat] = i\n",
    "        i = i+1\n",
    "    print(column+\" Encoding :=\",ord_dict)\n",
    "    data[column] = data[column].map(ord_dict)"
   ]
  },
  {
   "cell_type": "code",
   "execution_count": 72,
   "metadata": {},
   "outputs": [
    {
     "name": "stdout",
     "output_type": "stream",
     "text": [
      "ts_Month Encoding := {6: 0, 7: 1}\n",
      "ts_Day Encoding := {1: 0, 0: 1, 3: 2, 5: 3, 6: 4, 2: 5, 4: 6}\n",
      "ts_Hour Encoding := {8: 0, 11: 1, 10: 2, 9: 3, 12: 4, 7: 5, 6: 6, 2: 7, 1: 8, 3: 9, 13: 10, 4: 11, 14: 12, 22: 13, 21: 14, 20: 15, 0: 16, 19: 17, 23: 18, 16: 19, 5: 20, 15: 21, 17: 22, 18: 23}\n",
      "track_upload_date_Year Encoding := {2008: 0, 2012: 1, 2014: 2, 2013: 3, 2011: 4, 2010: 5, 2015: 6, 2009: 7, 2016: 8, 2007: 9}\n",
      "track_upload_date_Month Encoding := {10: 0, 8: 1, 9: 2, 11: 3, 12: 4, 1: 5, 3: 6, 2: 7, 4: 8, 5: 9, 7: 10, 6: 11}\n",
      "track_upload_date_Day Encoding := {5: 0, 4: 1, 0: 2, 3: 3, 6: 4, 2: 5, 1: 6}\n",
      "listener_signup_date_Year Encoding := {2016: 0, 2015: 1, 2014: 2, 2012: 3, 2013: 4, 2011: 5, 2009: 6, 2010: 7, 2008: 8, 2007: 9}\n",
      "listener_signup_date_Month Encoding := {2: 0, 5: 1, 1: 2, 4: 3, 3: 4, 7: 5, 8: 6, 11: 7, 10: 8, 6: 9, 9: 10, 12: 11}\n",
      "listener_signup_date_Day Encoding := {5: 0, 6: 1, 0: 2, 3: 3, 2: 4, 1: 5, 4: 6}\n",
      "client_ver_level1 Encoding := {'88': 0, '132': 1, '136': 2, '144': 3, '16': 4, '168': 5, '2400': 6, '124': 7, '148': 8, '200': 9, '112': 10, '108': 11, '152': 12, '176': 13, '188': 14, '156': 15, '184': 16, '104': 17, '160': 18, '164': 19, '128': 20, '140': 21, '96': 22, '20': 23, '204': 24, '44': 25, '32': 26, '24': 27, '212': 28, '0': 29, '180': 30, '192': 31, '208': 32, '300': 33, '216': 34, '172': 35, '28': 36, '196': 37, '36': 38, '84': 39, '40': 40, '92': 41, '120': 42, '116': 43, '100': 44, '64': 45, '2404': 46}\n",
      "client_ver_level2 Encoding := {'9428': 0, '76': 1, '36': 2, '20': 3, '32': 4, '12': 5, '28': 6, '100': 7, '0': 8, '4': 9, '8': 10, '80': 11, '16': 12, '24': 13}\n",
      "client_ver_level3 Encoding := {'0': 0, '4': 1, '16': 2, '24': 3, '32': 4, '8': 5, '20': 6, '12': 7, '28': 8}\n"
     ]
    }
   ],
   "source": [
    "order_encod(data,'ts_Month')\n",
    "order_encod(data,'ts_Day')\n",
    "order_encod(data,'ts_Hour')\n",
    "order_encod(data,'track_upload_date_Year')\n",
    "order_encod(data,'track_upload_date_Month')\n",
    "order_encod(data,'track_upload_date_Day')\n",
    "order_encod(data,'listener_signup_date_Year')\n",
    "order_encod(data,'listener_signup_date_Month')\n",
    "order_encod(data,'listener_signup_date_Day')\n",
    "order_encod(data,'client_ver_level1')\n",
    "order_encod(data,'client_ver_level2')\n",
    "order_encod(data,'client_ver_level3')"
   ]
  },
  {
   "cell_type": "code",
   "execution_count": 73,
   "metadata": {},
   "outputs": [
    {
     "data": {
      "text/html": [
       "<div>\n",
       "<style scoped>\n",
       "    .dataframe tbody tr th:only-of-type {\n",
       "        vertical-align: middle;\n",
       "    }\n",
       "\n",
       "    .dataframe tbody tr th {\n",
       "        vertical-align: top;\n",
       "    }\n",
       "\n",
       "    .dataframe thead th {\n",
       "        text-align: right;\n",
       "    }\n",
       "</style>\n",
       "<table border=\"1\" class=\"dataframe\">\n",
       "  <thead>\n",
       "    <tr style=\"text-align: right;\">\n",
       "      <th></th>\n",
       "      <th>track_duration</th>\n",
       "      <th>listen_duration</th>\n",
       "      <th>listener_prev_month_listening_time</th>\n",
       "      <th>listener_prev_month_avg_daily_tracks_listened</th>\n",
       "      <th>ts_Month</th>\n",
       "      <th>ts_Day</th>\n",
       "      <th>ts_Hour</th>\n",
       "      <th>track_upload_date_Year</th>\n",
       "      <th>track_upload_date_Month</th>\n",
       "      <th>track_upload_date_Day</th>\n",
       "      <th>...</th>\n",
       "      <th>Dance &amp; Electronic</th>\n",
       "      <th>HipHop &amp; R&amp;B</th>\n",
       "      <th>Jazz</th>\n",
       "      <th>Latin</th>\n",
       "      <th>Metal</th>\n",
       "      <th>Pop</th>\n",
       "      <th>Reggae</th>\n",
       "      <th>Rock</th>\n",
       "      <th>Speech</th>\n",
       "      <th>World</th>\n",
       "    </tr>\n",
       "  </thead>\n",
       "  <tbody>\n",
       "    <tr>\n",
       "      <th>0</th>\n",
       "      <td>413933</td>\n",
       "      <td>413933</td>\n",
       "      <td>617270940.0</td>\n",
       "      <td>22.5</td>\n",
       "      <td>1</td>\n",
       "      <td>6</td>\n",
       "      <td>23</td>\n",
       "      <td>8</td>\n",
       "      <td>11</td>\n",
       "      <td>3</td>\n",
       "      <td>...</td>\n",
       "      <td>0</td>\n",
       "      <td>1</td>\n",
       "      <td>0</td>\n",
       "      <td>0</td>\n",
       "      <td>0</td>\n",
       "      <td>0</td>\n",
       "      <td>0</td>\n",
       "      <td>0</td>\n",
       "      <td>0</td>\n",
       "      <td>0</td>\n",
       "    </tr>\n",
       "    <tr>\n",
       "      <th>1</th>\n",
       "      <td>402640</td>\n",
       "      <td>110722</td>\n",
       "      <td>617270940.0</td>\n",
       "      <td>22.5</td>\n",
       "      <td>1</td>\n",
       "      <td>6</td>\n",
       "      <td>23</td>\n",
       "      <td>8</td>\n",
       "      <td>11</td>\n",
       "      <td>1</td>\n",
       "      <td>...</td>\n",
       "      <td>0</td>\n",
       "      <td>1</td>\n",
       "      <td>0</td>\n",
       "      <td>0</td>\n",
       "      <td>0</td>\n",
       "      <td>0</td>\n",
       "      <td>0</td>\n",
       "      <td>0</td>\n",
       "      <td>0</td>\n",
       "      <td>0</td>\n",
       "    </tr>\n",
       "    <tr>\n",
       "      <th>2</th>\n",
       "      <td>494811</td>\n",
       "      <td>193818</td>\n",
       "      <td>617270940.0</td>\n",
       "      <td>22.5</td>\n",
       "      <td>1</td>\n",
       "      <td>5</td>\n",
       "      <td>21</td>\n",
       "      <td>8</td>\n",
       "      <td>11</td>\n",
       "      <td>6</td>\n",
       "      <td>...</td>\n",
       "      <td>0</td>\n",
       "      <td>1</td>\n",
       "      <td>0</td>\n",
       "      <td>0</td>\n",
       "      <td>0</td>\n",
       "      <td>0</td>\n",
       "      <td>0</td>\n",
       "      <td>0</td>\n",
       "      <td>0</td>\n",
       "      <td>0</td>\n",
       "    </tr>\n",
       "    <tr>\n",
       "      <th>3</th>\n",
       "      <td>361585</td>\n",
       "      <td>361585</td>\n",
       "      <td>112239180.0</td>\n",
       "      <td>10.5</td>\n",
       "      <td>1</td>\n",
       "      <td>6</td>\n",
       "      <td>17</td>\n",
       "      <td>2</td>\n",
       "      <td>11</td>\n",
       "      <td>2</td>\n",
       "      <td>...</td>\n",
       "      <td>0</td>\n",
       "      <td>1</td>\n",
       "      <td>0</td>\n",
       "      <td>0</td>\n",
       "      <td>0</td>\n",
       "      <td>0</td>\n",
       "      <td>0</td>\n",
       "      <td>0</td>\n",
       "      <td>0</td>\n",
       "      <td>0</td>\n",
       "    </tr>\n",
       "    <tr>\n",
       "      <th>4</th>\n",
       "      <td>373700</td>\n",
       "      <td>160162</td>\n",
       "      <td>112239180.0</td>\n",
       "      <td>10.5</td>\n",
       "      <td>1</td>\n",
       "      <td>6</td>\n",
       "      <td>17</td>\n",
       "      <td>6</td>\n",
       "      <td>3</td>\n",
       "      <td>0</td>\n",
       "      <td>...</td>\n",
       "      <td>0</td>\n",
       "      <td>1</td>\n",
       "      <td>0</td>\n",
       "      <td>0</td>\n",
       "      <td>0</td>\n",
       "      <td>0</td>\n",
       "      <td>0</td>\n",
       "      <td>0</td>\n",
       "      <td>0</td>\n",
       "      <td>0</td>\n",
       "    </tr>\n",
       "  </tbody>\n",
       "</table>\n",
       "<p>5 rows × 52 columns</p>\n",
       "</div>"
      ],
      "text/plain": [
       "   track_duration  listen_duration  listener_prev_month_listening_time  \\\n",
       "0          413933           413933                         617270940.0   \n",
       "1          402640           110722                         617270940.0   \n",
       "2          494811           193818                         617270940.0   \n",
       "3          361585           361585                         112239180.0   \n",
       "4          373700           160162                         112239180.0   \n",
       "\n",
       "   listener_prev_month_avg_daily_tracks_listened  ts_Month  ts_Day  ts_Hour  \\\n",
       "0                                           22.5         1       6       23   \n",
       "1                                           22.5         1       6       23   \n",
       "2                                           22.5         1       5       21   \n",
       "3                                           10.5         1       6       17   \n",
       "4                                           10.5         1       6       17   \n",
       "\n",
       "   track_upload_date_Year  track_upload_date_Month  track_upload_date_Day  \\\n",
       "0                       8                       11                      3   \n",
       "1                       8                       11                      1   \n",
       "2                       8                       11                      6   \n",
       "3                       2                       11                      2   \n",
       "4                       6                        3                      0   \n",
       "\n",
       "   ...    Dance & Electronic  HipHop & R&B  Jazz  Latin  Metal  Pop  Reggae  \\\n",
       "0  ...                     0             1     0      0      0    0       0   \n",
       "1  ...                     0             1     0      0      0    0       0   \n",
       "2  ...                     0             1     0      0      0    0       0   \n",
       "3  ...                     0             1     0      0      0    0       0   \n",
       "4  ...                     0             1     0      0      0    0       0   \n",
       "\n",
       "   Rock  Speech  World  \n",
       "0     0       0      0  \n",
       "1     0       0      0  \n",
       "2     0       0      0  \n",
       "3     0       0      0  \n",
       "4     0       0      0  \n",
       "\n",
       "[5 rows x 52 columns]"
      ]
     },
     "execution_count": 73,
     "metadata": {},
     "output_type": "execute_result"
    }
   ],
   "source": [
    "data.head()"
   ]
  },
  {
   "cell_type": "code",
   "execution_count": 74,
   "metadata": {},
   "outputs": [
    {
     "data": {
      "text/plain": [
       "Index(['track_duration', 'listen_duration',\n",
       "       'listener_prev_month_listening_time',\n",
       "       'listener_prev_month_avg_daily_tracks_listened', 'ts_Month', 'ts_Day',\n",
       "       'ts_Hour', 'track_upload_date_Year', 'track_upload_date_Month',\n",
       "       'track_upload_date_Day', 'listener_signup_date_Year',\n",
       "       'listener_signup_date_Month', 'listener_signup_date_Day',\n",
       "       'duration_diff', 'client_ver_level1', 'client_ver_level2',\n",
       "       'client_ver_level3', 'US', 'collection', 'personal-recommended',\n",
       "       'playlists', 'search', 'stream', 'tracks', 'users', 'you',\n",
       "       'content-based', 'fallback', 'hybrid', 'Country', 'Dance & Electronic',\n",
       "       'HipHop & R&B', 'Jazz', 'Latin', 'Metal', 'Pop', 'Reggae', 'Rock',\n",
       "       'Speech', 'Unknown', 'World', 'Country', 'Dance & Electronic',\n",
       "       'HipHop & R&B', 'Jazz', 'Latin', 'Metal', 'Pop', 'Reggae', 'Rock',\n",
       "       'Speech', 'World'],\n",
       "      dtype='object')"
      ]
     },
     "execution_count": 74,
     "metadata": {},
     "output_type": "execute_result"
    }
   ],
   "source": [
    "col=data.columns\n",
    "col"
   ]
  },
  {
   "cell_type": "code",
   "execution_count": 75,
   "metadata": {},
   "outputs": [
    {
     "name": "stderr",
     "output_type": "stream",
     "text": [
      "C:\\Users\\sachin.gupta\\AppData\\Local\\Continuum\\anaconda3\\lib\\site-packages\\sklearn\\preprocessing\\data.py:625: DataConversionWarning: Data with input dtype uint8, int64, float64 were all converted to float64 by StandardScaler.\n",
      "  return self.partial_fit(X, y)\n",
      "C:\\Users\\sachin.gupta\\AppData\\Local\\Continuum\\anaconda3\\lib\\site-packages\\sklearn\\base.py:462: DataConversionWarning: Data with input dtype uint8, int64, float64 were all converted to float64 by StandardScaler.\n",
      "  return self.fit(X, **fit_params).transform(X)\n"
     ]
    }
   ],
   "source": [
    "from sklearn.preprocessing import StandardScaler\n",
    "sc=StandardScaler()\n",
    "\n",
    "data_sc=sc.fit_transform(data)"
   ]
  },
  {
   "cell_type": "code",
   "execution_count": 76,
   "metadata": {},
   "outputs": [],
   "source": [
    "data_sc = pd.DataFrame.from_records(data_sc)"
   ]
  },
  {
   "cell_type": "code",
   "execution_count": 77,
   "metadata": {},
   "outputs": [],
   "source": [
    "data_sc.columns=col"
   ]
  },
  {
   "cell_type": "code",
   "execution_count": 78,
   "metadata": {},
   "outputs": [
    {
     "data": {
      "text/html": [
       "<div>\n",
       "<style scoped>\n",
       "    .dataframe tbody tr th:only-of-type {\n",
       "        vertical-align: middle;\n",
       "    }\n",
       "\n",
       "    .dataframe tbody tr th {\n",
       "        vertical-align: top;\n",
       "    }\n",
       "\n",
       "    .dataframe thead th {\n",
       "        text-align: right;\n",
       "    }\n",
       "</style>\n",
       "<table border=\"1\" class=\"dataframe\">\n",
       "  <thead>\n",
       "    <tr style=\"text-align: right;\">\n",
       "      <th></th>\n",
       "      <th>track_duration</th>\n",
       "      <th>listen_duration</th>\n",
       "      <th>listener_prev_month_listening_time</th>\n",
       "      <th>listener_prev_month_avg_daily_tracks_listened</th>\n",
       "      <th>ts_Month</th>\n",
       "      <th>ts_Day</th>\n",
       "      <th>ts_Hour</th>\n",
       "      <th>track_upload_date_Year</th>\n",
       "      <th>track_upload_date_Month</th>\n",
       "      <th>track_upload_date_Day</th>\n",
       "      <th>...</th>\n",
       "      <th>Dance &amp; Electronic</th>\n",
       "      <th>HipHop &amp; R&amp;B</th>\n",
       "      <th>Jazz</th>\n",
       "      <th>Latin</th>\n",
       "      <th>Metal</th>\n",
       "      <th>Pop</th>\n",
       "      <th>Reggae</th>\n",
       "      <th>Rock</th>\n",
       "      <th>Speech</th>\n",
       "      <th>World</th>\n",
       "    </tr>\n",
       "  </thead>\n",
       "  <tbody>\n",
       "    <tr>\n",
       "      <th>0</th>\n",
       "      <td>-0.109755</td>\n",
       "      <td>0.219545</td>\n",
       "      <td>-0.725895</td>\n",
       "      <td>-0.539671</td>\n",
       "      <td>0.414995</td>\n",
       "      <td>1.508188</td>\n",
       "      <td>1.545768</td>\n",
       "      <td>0.969570</td>\n",
       "      <td>1.260055</td>\n",
       "      <td>-0.129814</td>\n",
       "      <td>...</td>\n",
       "      <td>-0.549338</td>\n",
       "      <td>0.714878</td>\n",
       "      <td>-0.023127</td>\n",
       "      <td>-0.055743</td>\n",
       "      <td>-0.039931</td>\n",
       "      <td>-0.20415</td>\n",
       "      <td>-0.053823</td>\n",
       "      <td>-0.15896</td>\n",
       "      <td>-0.073984</td>\n",
       "      <td>-0.164449</td>\n",
       "    </tr>\n",
       "    <tr>\n",
       "      <th>1</th>\n",
       "      <td>-0.121153</td>\n",
       "      <td>-0.355711</td>\n",
       "      <td>-0.725895</td>\n",
       "      <td>-0.539671</td>\n",
       "      <td>0.414995</td>\n",
       "      <td>1.508188</td>\n",
       "      <td>1.545768</td>\n",
       "      <td>0.969570</td>\n",
       "      <td>1.260055</td>\n",
       "      <td>-1.176519</td>\n",
       "      <td>...</td>\n",
       "      <td>-0.549338</td>\n",
       "      <td>0.714878</td>\n",
       "      <td>-0.023127</td>\n",
       "      <td>-0.055743</td>\n",
       "      <td>-0.039931</td>\n",
       "      <td>-0.20415</td>\n",
       "      <td>-0.053823</td>\n",
       "      <td>-0.15896</td>\n",
       "      <td>-0.073984</td>\n",
       "      <td>-0.164449</td>\n",
       "    </tr>\n",
       "    <tr>\n",
       "      <th>2</th>\n",
       "      <td>-0.028126</td>\n",
       "      <td>-0.198060</td>\n",
       "      <td>-0.725895</td>\n",
       "      <td>-0.539671</td>\n",
       "      <td>0.414995</td>\n",
       "      <td>1.000399</td>\n",
       "      <td>1.240853</td>\n",
       "      <td>0.969570</td>\n",
       "      <td>1.260055</td>\n",
       "      <td>1.440244</td>\n",
       "      <td>...</td>\n",
       "      <td>-0.549338</td>\n",
       "      <td>0.714878</td>\n",
       "      <td>-0.023127</td>\n",
       "      <td>-0.055743</td>\n",
       "      <td>-0.039931</td>\n",
       "      <td>-0.20415</td>\n",
       "      <td>-0.053823</td>\n",
       "      <td>-0.15896</td>\n",
       "      <td>-0.073984</td>\n",
       "      <td>-0.164449</td>\n",
       "    </tr>\n",
       "    <tr>\n",
       "      <th>3</th>\n",
       "      <td>-0.162589</td>\n",
       "      <td>0.120230</td>\n",
       "      <td>-0.775817</td>\n",
       "      <td>-0.817673</td>\n",
       "      <td>0.414995</td>\n",
       "      <td>1.508188</td>\n",
       "      <td>0.631023</td>\n",
       "      <td>-1.451780</td>\n",
       "      <td>1.260055</td>\n",
       "      <td>-0.653167</td>\n",
       "      <td>...</td>\n",
       "      <td>-0.549338</td>\n",
       "      <td>0.714878</td>\n",
       "      <td>-0.023127</td>\n",
       "      <td>-0.055743</td>\n",
       "      <td>-0.039931</td>\n",
       "      <td>-0.20415</td>\n",
       "      <td>-0.053823</td>\n",
       "      <td>-0.15896</td>\n",
       "      <td>-0.073984</td>\n",
       "      <td>-0.164449</td>\n",
       "    </tr>\n",
       "    <tr>\n",
       "      <th>4</th>\n",
       "      <td>-0.150362</td>\n",
       "      <td>-0.261913</td>\n",
       "      <td>-0.775817</td>\n",
       "      <td>-0.817673</td>\n",
       "      <td>0.414995</td>\n",
       "      <td>1.508188</td>\n",
       "      <td>0.631023</td>\n",
       "      <td>0.162453</td>\n",
       "      <td>-1.053186</td>\n",
       "      <td>-1.699872</td>\n",
       "      <td>...</td>\n",
       "      <td>-0.549338</td>\n",
       "      <td>0.714878</td>\n",
       "      <td>-0.023127</td>\n",
       "      <td>-0.055743</td>\n",
       "      <td>-0.039931</td>\n",
       "      <td>-0.20415</td>\n",
       "      <td>-0.053823</td>\n",
       "      <td>-0.15896</td>\n",
       "      <td>-0.073984</td>\n",
       "      <td>-0.164449</td>\n",
       "    </tr>\n",
       "  </tbody>\n",
       "</table>\n",
       "<p>5 rows × 52 columns</p>\n",
       "</div>"
      ],
      "text/plain": [
       "   track_duration  listen_duration  listener_prev_month_listening_time  \\\n",
       "0       -0.109755         0.219545                           -0.725895   \n",
       "1       -0.121153        -0.355711                           -0.725895   \n",
       "2       -0.028126        -0.198060                           -0.725895   \n",
       "3       -0.162589         0.120230                           -0.775817   \n",
       "4       -0.150362        -0.261913                           -0.775817   \n",
       "\n",
       "   listener_prev_month_avg_daily_tracks_listened  ts_Month    ts_Day  \\\n",
       "0                                      -0.539671  0.414995  1.508188   \n",
       "1                                      -0.539671  0.414995  1.508188   \n",
       "2                                      -0.539671  0.414995  1.000399   \n",
       "3                                      -0.817673  0.414995  1.508188   \n",
       "4                                      -0.817673  0.414995  1.508188   \n",
       "\n",
       "    ts_Hour  track_upload_date_Year  track_upload_date_Month  \\\n",
       "0  1.545768                0.969570                 1.260055   \n",
       "1  1.545768                0.969570                 1.260055   \n",
       "2  1.240853                0.969570                 1.260055   \n",
       "3  0.631023               -1.451780                 1.260055   \n",
       "4  0.631023                0.162453                -1.053186   \n",
       "\n",
       "   track_upload_date_Day    ...     Dance & Electronic  HipHop & R&B  \\\n",
       "0              -0.129814    ...              -0.549338      0.714878   \n",
       "1              -1.176519    ...              -0.549338      0.714878   \n",
       "2               1.440244    ...              -0.549338      0.714878   \n",
       "3              -0.653167    ...              -0.549338      0.714878   \n",
       "4              -1.699872    ...              -0.549338      0.714878   \n",
       "\n",
       "       Jazz     Latin     Metal      Pop    Reggae     Rock    Speech  \\\n",
       "0 -0.023127 -0.055743 -0.039931 -0.20415 -0.053823 -0.15896 -0.073984   \n",
       "1 -0.023127 -0.055743 -0.039931 -0.20415 -0.053823 -0.15896 -0.073984   \n",
       "2 -0.023127 -0.055743 -0.039931 -0.20415 -0.053823 -0.15896 -0.073984   \n",
       "3 -0.023127 -0.055743 -0.039931 -0.20415 -0.053823 -0.15896 -0.073984   \n",
       "4 -0.023127 -0.055743 -0.039931 -0.20415 -0.053823 -0.15896 -0.073984   \n",
       "\n",
       "      World  \n",
       "0 -0.164449  \n",
       "1 -0.164449  \n",
       "2 -0.164449  \n",
       "3 -0.164449  \n",
       "4 -0.164449  \n",
       "\n",
       "[5 rows x 52 columns]"
      ]
     },
     "execution_count": 78,
     "metadata": {},
     "output_type": "execute_result"
    }
   ],
   "source": [
    "data_sc.head()"
   ]
  },
  {
   "cell_type": "code",
   "execution_count": 79,
   "metadata": {},
   "outputs": [
    {
     "name": "stdout",
     "output_type": "stream",
     "text": [
      "Step:= 1\n",
      "wcss:= 39784784.000000015\n",
      "Step:= 2\n",
      "wcss:= 38139667.025578946\n",
      "Step:= 3\n",
      "wcss:= 37050149.67940028\n",
      "Step:= 4\n",
      "wcss:= 36069410.91726074\n",
      "Step:= 5\n",
      "wcss:= 35434185.61752384\n",
      "Step:= 6\n",
      "wcss:= 34633094.865003176\n",
      "Step:= 7\n",
      "wcss:= 33789990.397768684\n",
      "Step:= 8\n",
      "wcss:= 32736984.18763007\n",
      "Step:= 9\n",
      "wcss:= 31979650.889426496\n",
      "Step:= 10\n",
      "wcss:= 31213856.730725262\n",
      "Step:= 11\n",
      "wcss:= 30542348.39108631\n",
      "Step:= 12\n",
      "wcss:= 29979052.003869005\n",
      "Step:= 13\n",
      "wcss:= 28946813.938001942\n",
      "Step:= 14\n",
      "wcss:= 28118554.56325444\n",
      "Step:= 15\n",
      "wcss:= 27593818.590755116\n",
      "Step:= 16\n",
      "wcss:= 26974278.947631676\n",
      "Step:= 17\n",
      "wcss:= 26030681.186713886\n",
      "Step:= 18\n",
      "wcss:= 25538325.473615285\n",
      "Step:= 19\n",
      "wcss:= 24829289.943271216\n"
     ]
    },
    {
     "data": {
      "text/plain": [
       "Text(0,0.5,'WCSS')"
      ]
     },
     "execution_count": 79,
     "metadata": {},
     "output_type": "execute_result"
    },
    {
     "data": {
      "image/png": "[encoded data removed]",
      "text/plain": [
       "<Figure size 432x288 with 1 Axes>"
      ]
     },
     "metadata": {
      "needs_background": "light"
     },
     "output_type": "display_data"
    }
   ],
   "source": [
    "# Using the elbow method to find the optimal number of clusters\n",
    "from sklearn.cluster import KMeans\n",
    "wcss = []\n",
    "for i in range(1, 30):\n",
    "    kmeans = KMeans(n_clusters = i, init = 'k-means++', n_jobs = -1, \n",
    "                    random_state = 42)\n",
    "    print(\"Step:=\",i)\n",
    "    kmeans.fit(data_sc)\n",
    "    wcss.append(kmeans.inertia_)\n",
    "    print(\"wcss:=\",kmeans.inertia_)\n",
    "\n",
    "plt.figure(figsize=(10,5))\n",
    "plt.plot(range(1,30), wcss)\n",
    "plt.title('The Elbow Method')\n",
    "plt.xlabel('Number of clusters')\n",
    "plt.ylabel('WCSS')"
   ]
  },
  {
   "cell_type": "code",
   "execution_count": null,
   "metadata": {},
   "outputs": [],
   "source": [
    "# Fitting K-Means to the dataset\n",
    "kmeans = KMeans(n_clusters = 3, init = 'k-means++', \n",
    "                random_state = 42)\n",
    "y_kmeans = kmeans.fit_predict(X)"
   ]
  },
  {
   "cell_type": "code",
   "execution_count": null,
   "metadata": {},
   "outputs": [],
   "source": [
    "data_cluster = pd.concat([data,\n",
    "                     pd.DataFrame(y_kmeans, columns=['Clusters'])], \n",
    "                    axis=1)"
   ]
  },
  {
   "cell_type": "code",
   "execution_count": null,
   "metadata": {},
   "outputs": [],
   "source": [
    "data_cluster.head()"
   ]
  },
  {
   "cell_type": "code",
   "execution_count": null,
   "metadata": {},
   "outputs": [],
   "source": [
    "for k,v in data_cluster.groupby('Clusters'):\n",
    "    print('Cluster: ',k)\n",
    "    print(v.head())"
   ]
  },
  {
   "cell_type": "code",
   "execution_count": null,
   "metadata": {},
   "outputs": [],
   "source": []
  },
  {
   "cell_type": "markdown",
   "metadata": {},
   "source": [
    "## Clasification approch"
   ]
  },
  {
   "cell_type": "markdown",
   "metadata": {},
   "source": [
    "#### 2. Ordinal Encoding"
   ]
  },
  {
   "cell_type": "code",
   "execution_count": 30,
   "metadata": {},
   "outputs": [],
   "source": [
    "def order_encod(data,column):\n",
    "    cats = list(data.groupby([column])['duration_diff'].mean().sort_values().index)\n",
    "    cats\n",
    "    ord_dict = {}\n",
    "    i=0\n",
    "    for cat in cats:\n",
    "        ord_dict[cat] = i\n",
    "        i = i+1\n",
    "    print(column+\" Encoding :=\",ord_dict)\n",
    "    data[column] = data[column].map(ord_dict)"
   ]
  },
  {
   "cell_type": "code",
   "execution_count": 31,
   "metadata": {},
   "outputs": [
    {
     "name": "stdout",
     "output_type": "stream",
     "text": [
      "ts_Month Encoding := {6: 0, 7: 1}\n",
      "ts_Day Encoding := {1: 0, 0: 1, 3: 2, 5: 3, 6: 4, 2: 5, 4: 6}\n",
      "ts_Hour Encoding := {8: 0, 11: 1, 10: 2, 9: 3, 12: 4, 7: 5, 6: 6, 2: 7, 1: 8, 3: 9, 13: 10, 4: 11, 14: 12, 22: 13, 21: 14, 20: 15, 0: 16, 19: 17, 23: 18, 16: 19, 5: 20, 15: 21, 17: 22, 18: 23}\n",
      "track_upload_date_Year Encoding := {2008: 0, 2012: 1, 2014: 2, 2013: 3, 2011: 4, 2010: 5, 2015: 6, 2009: 7, 2016: 8, 2007: 9}\n",
      "track_upload_date_Month Encoding := {10: 0, 8: 1, 9: 2, 11: 3, 12: 4, 1: 5, 3: 6, 2: 7, 4: 8, 5: 9, 7: 10, 6: 11}\n",
      "track_upload_date_Day Encoding := {5: 0, 4: 1, 0: 2, 3: 3, 6: 4, 2: 5, 1: 6}\n",
      "listener_signup_date_Year Encoding := {2016: 0, 2015: 1, 2014: 2, 2012: 3, 2013: 4, 2011: 5, 2009: 6, 2010: 7, 2008: 8, 2007: 9}\n",
      "listener_signup_date_Month Encoding := {2: 0, 5: 1, 1: 2, 4: 3, 3: 4, 7: 5, 8: 6, 11: 7, 10: 8, 6: 9, 9: 10, 12: 11}\n",
      "listener_signup_date_Day Encoding := {5: 0, 6: 1, 0: 2, 3: 3, 2: 4, 1: 5, 4: 6}\n",
      "client_ver_level1 Encoding := {'88': 0, '132': 1, '136': 2, '144': 3, '16': 4, '168': 5, '2400': 6, '124': 7, '148': 8, '200': 9, '112': 10, '108': 11, '152': 12, '176': 13, '188': 14, '156': 15, '184': 16, '104': 17, '160': 18, '164': 19, '128': 20, '140': 21, '96': 22, '20': 23, '204': 24, '44': 25, '32': 26, '24': 27, '212': 28, '0': 29, '180': 30, '192': 31, '208': 32, '300': 33, '216': 34, '172': 35, '28': 36, '196': 37, '36': 38, '84': 39, '40': 40, '92': 41, '120': 42, '116': 43, '100': 44, '64': 45, '2404': 46}\n",
      "client_ver_level2 Encoding := {'9428': 0, '76': 1, '36': 2, '20': 3, '32': 4, '12': 5, '28': 6, '100': 7, '0': 8, '4': 9, '8': 10, '80': 11, '16': 12, '24': 13}\n",
      "client_ver_level3 Encoding := {'0': 0, '4': 1, '16': 2, '24': 3, '32': 4, '8': 5, '20': 6, '12': 7, '28': 8}\n"
     ]
    }
   ],
   "source": [
    "order_encod(data,'ts_Month')\n",
    "order_encod(data,'ts_Day')\n",
    "order_encod(data,'ts_Hour')\n",
    "order_encod(data,'track_upload_date_Year')\n",
    "order_encod(data,'track_upload_date_Month')\n",
    "order_encod(data,'track_upload_date_Day')\n",
    "order_encod(data,'listener_signup_date_Year')\n",
    "order_encod(data,'listener_signup_date_Month')\n",
    "order_encod(data,'listener_signup_date_Day')\n",
    "order_encod(data,'client_ver_level1')\n",
    "order_encod(data,'client_ver_level2')\n",
    "order_encod(data,'client_ver_level3')"
   ]
  },
  {
   "cell_type": "code",
   "execution_count": 80,
   "metadata": {},
   "outputs": [
    {
     "data": {
      "text/html": [
       "<div>\n",
       "<style scoped>\n",
       "    .dataframe tbody tr th:only-of-type {\n",
       "        vertical-align: middle;\n",
       "    }\n",
       "\n",
       "    .dataframe tbody tr th {\n",
       "        vertical-align: top;\n",
       "    }\n",
       "\n",
       "    .dataframe thead th {\n",
       "        text-align: right;\n",
       "    }\n",
       "</style>\n",
       "<table border=\"1\" class=\"dataframe\">\n",
       "  <thead>\n",
       "    <tr style=\"text-align: right;\">\n",
       "      <th></th>\n",
       "      <th>track_duration</th>\n",
       "      <th>listen_duration</th>\n",
       "      <th>listener_prev_month_listening_time</th>\n",
       "      <th>listener_prev_month_avg_daily_tracks_listened</th>\n",
       "      <th>ts_Month</th>\n",
       "      <th>ts_Day</th>\n",
       "      <th>ts_Hour</th>\n",
       "      <th>track_upload_date_Year</th>\n",
       "      <th>track_upload_date_Month</th>\n",
       "      <th>track_upload_date_Day</th>\n",
       "      <th>...</th>\n",
       "      <th>Dance &amp; Electronic</th>\n",
       "      <th>HipHop &amp; R&amp;B</th>\n",
       "      <th>Jazz</th>\n",
       "      <th>Latin</th>\n",
       "      <th>Metal</th>\n",
       "      <th>Pop</th>\n",
       "      <th>Reggae</th>\n",
       "      <th>Rock</th>\n",
       "      <th>Speech</th>\n",
       "      <th>World</th>\n",
       "    </tr>\n",
       "  </thead>\n",
       "  <tbody>\n",
       "    <tr>\n",
       "      <th>0</th>\n",
       "      <td>413933</td>\n",
       "      <td>413933</td>\n",
       "      <td>617270940.0</td>\n",
       "      <td>22.5</td>\n",
       "      <td>1</td>\n",
       "      <td>6</td>\n",
       "      <td>23</td>\n",
       "      <td>8</td>\n",
       "      <td>11</td>\n",
       "      <td>3</td>\n",
       "      <td>...</td>\n",
       "      <td>0</td>\n",
       "      <td>1</td>\n",
       "      <td>0</td>\n",
       "      <td>0</td>\n",
       "      <td>0</td>\n",
       "      <td>0</td>\n",
       "      <td>0</td>\n",
       "      <td>0</td>\n",
       "      <td>0</td>\n",
       "      <td>0</td>\n",
       "    </tr>\n",
       "    <tr>\n",
       "      <th>1</th>\n",
       "      <td>402640</td>\n",
       "      <td>110722</td>\n",
       "      <td>617270940.0</td>\n",
       "      <td>22.5</td>\n",
       "      <td>1</td>\n",
       "      <td>6</td>\n",
       "      <td>23</td>\n",
       "      <td>8</td>\n",
       "      <td>11</td>\n",
       "      <td>1</td>\n",
       "      <td>...</td>\n",
       "      <td>0</td>\n",
       "      <td>1</td>\n",
       "      <td>0</td>\n",
       "      <td>0</td>\n",
       "      <td>0</td>\n",
       "      <td>0</td>\n",
       "      <td>0</td>\n",
       "      <td>0</td>\n",
       "      <td>0</td>\n",
       "      <td>0</td>\n",
       "    </tr>\n",
       "    <tr>\n",
       "      <th>2</th>\n",
       "      <td>494811</td>\n",
       "      <td>193818</td>\n",
       "      <td>617270940.0</td>\n",
       "      <td>22.5</td>\n",
       "      <td>1</td>\n",
       "      <td>5</td>\n",
       "      <td>21</td>\n",
       "      <td>8</td>\n",
       "      <td>11</td>\n",
       "      <td>6</td>\n",
       "      <td>...</td>\n",
       "      <td>0</td>\n",
       "      <td>1</td>\n",
       "      <td>0</td>\n",
       "      <td>0</td>\n",
       "      <td>0</td>\n",
       "      <td>0</td>\n",
       "      <td>0</td>\n",
       "      <td>0</td>\n",
       "      <td>0</td>\n",
       "      <td>0</td>\n",
       "    </tr>\n",
       "    <tr>\n",
       "      <th>3</th>\n",
       "      <td>361585</td>\n",
       "      <td>361585</td>\n",
       "      <td>112239180.0</td>\n",
       "      <td>10.5</td>\n",
       "      <td>1</td>\n",
       "      <td>6</td>\n",
       "      <td>17</td>\n",
       "      <td>2</td>\n",
       "      <td>11</td>\n",
       "      <td>2</td>\n",
       "      <td>...</td>\n",
       "      <td>0</td>\n",
       "      <td>1</td>\n",
       "      <td>0</td>\n",
       "      <td>0</td>\n",
       "      <td>0</td>\n",
       "      <td>0</td>\n",
       "      <td>0</td>\n",
       "      <td>0</td>\n",
       "      <td>0</td>\n",
       "      <td>0</td>\n",
       "    </tr>\n",
       "    <tr>\n",
       "      <th>4</th>\n",
       "      <td>373700</td>\n",
       "      <td>160162</td>\n",
       "      <td>112239180.0</td>\n",
       "      <td>10.5</td>\n",
       "      <td>1</td>\n",
       "      <td>6</td>\n",
       "      <td>17</td>\n",
       "      <td>6</td>\n",
       "      <td>3</td>\n",
       "      <td>0</td>\n",
       "      <td>...</td>\n",
       "      <td>0</td>\n",
       "      <td>1</td>\n",
       "      <td>0</td>\n",
       "      <td>0</td>\n",
       "      <td>0</td>\n",
       "      <td>0</td>\n",
       "      <td>0</td>\n",
       "      <td>0</td>\n",
       "      <td>0</td>\n",
       "      <td>0</td>\n",
       "    </tr>\n",
       "  </tbody>\n",
       "</table>\n",
       "<p>5 rows × 52 columns</p>\n",
       "</div>"
      ],
      "text/plain": [
       "   track_duration  listen_duration  listener_prev_month_listening_time  \\\n",
       "0          413933           413933                         617270940.0   \n",
       "1          402640           110722                         617270940.0   \n",
       "2          494811           193818                         617270940.0   \n",
       "3          361585           361585                         112239180.0   \n",
       "4          373700           160162                         112239180.0   \n",
       "\n",
       "   listener_prev_month_avg_daily_tracks_listened  ts_Month  ts_Day  ts_Hour  \\\n",
       "0                                           22.5         1       6       23   \n",
       "1                                           22.5         1       6       23   \n",
       "2                                           22.5         1       5       21   \n",
       "3                                           10.5         1       6       17   \n",
       "4                                           10.5         1       6       17   \n",
       "\n",
       "   track_upload_date_Year  track_upload_date_Month  track_upload_date_Day  \\\n",
       "0                       8                       11                      3   \n",
       "1                       8                       11                      1   \n",
       "2                       8                       11                      6   \n",
       "3                       2                       11                      2   \n",
       "4                       6                        3                      0   \n",
       "\n",
       "   ...    Dance & Electronic  HipHop & R&B  Jazz  Latin  Metal  Pop  Reggae  \\\n",
       "0  ...                     0             1     0      0      0    0       0   \n",
       "1  ...                     0             1     0      0      0    0       0   \n",
       "2  ...                     0             1     0      0      0    0       0   \n",
       "3  ...                     0             1     0      0      0    0       0   \n",
       "4  ...                     0             1     0      0      0    0       0   \n",
       "\n",
       "   Rock  Speech  World  \n",
       "0     0       0      0  \n",
       "1     0       0      0  \n",
       "2     0       0      0  \n",
       "3     0       0      0  \n",
       "4     0       0      0  \n",
       "\n",
       "[5 rows x 52 columns]"
      ]
     },
     "execution_count": 80,
     "metadata": {},
     "output_type": "execute_result"
    }
   ],
   "source": [
    "data.head()"
   ]
  },
  {
   "cell_type": "markdown",
   "metadata": {},
   "source": [
    "### Setting Hypothesis\n",
    "\n",
    "Hypothesis is if listner listening duration of recommended song is <=50% of track duration then listner didn't like the recommnded song.\n",
    "\n",
    "Based on above hypothesis added the like_dislike column. \n",
    "\n",
    "1. Value \"0\": Indicate Listner liked the recommended song.\n",
    "2.  Value \"1\": Indicate Listner haven't liked the recommended song."
   ]
  },
  {
   "cell_type": "code",
   "execution_count": null,
   "metadata": {},
   "outputs": [],
   "source": [
    "#df.loc[:,['track_duration','listen_duration','Like_dislike','duration_diff']].head()"
   ]
  },
  {
   "cell_type": "markdown",
   "metadata": {},
   "source": [
    "#### Splitting Data"
   ]
  },
  {
   "cell_type": "code",
   "execution_count": 34,
   "metadata": {},
   "outputs": [],
   "source": [
    "X=data.drop('Like_dislike',axis=1).values\n",
    "y=y=data.loc[:,['Like_dislike']].values"
   ]
  },
  {
   "cell_type": "code",
   "execution_count": 35,
   "metadata": {},
   "outputs": [
    {
     "name": "stdout",
     "output_type": "stream",
     "text": [
      "[[0]\n",
      " [1]\n",
      " [1]\n",
      " ...\n",
      " [0]\n",
      " [0]\n",
      " [0]]\n"
     ]
    }
   ],
   "source": [
    "print(y)"
   ]
  },
  {
   "cell_type": "code",
   "execution_count": 36,
   "metadata": {},
   "outputs": [],
   "source": [
    "from sklearn.model_selection import train_test_split \n",
    "X_train,X_test,y_train,y_test=train_test_split(X,y,test_size=0.25,random_state=0)"
   ]
  },
  {
   "cell_type": "code",
   "execution_count": 37,
   "metadata": {},
   "outputs": [
    {
     "data": {
      "text/plain": [
       "(573819, 50)"
      ]
     },
     "execution_count": 37,
     "metadata": {},
     "output_type": "execute_result"
    }
   ],
   "source": [
    "X_train.shape"
   ]
  },
  {
   "cell_type": "code",
   "execution_count": 38,
   "metadata": {},
   "outputs": [
    {
     "data": {
      "text/plain": [
       "(191273, 50)"
      ]
     },
     "execution_count": 38,
     "metadata": {},
     "output_type": "execute_result"
    }
   ],
   "source": [
    "X_test.shape"
   ]
  },
  {
   "cell_type": "code",
   "execution_count": 39,
   "metadata": {},
   "outputs": [
    {
     "name": "stdout",
     "output_type": "stream",
     "text": [
      "Before OverSampling, counts of label '1': [212580]\n",
      "Before OverSampling, counts of label '0': [361239] \n",
      "\n"
     ]
    }
   ],
   "source": [
    "print(\"counts of label '1': {}\".format(sum(y_train==1)))\n",
    "print(\"counts of label '0': {} \\n\".format(sum(y_train==0)))"
   ]
  },
  {
   "cell_type": "code",
   "execution_count": 40,
   "metadata": {},
   "outputs": [
    {
     "name": "stdout",
     "output_type": "stream",
     "text": [
      "Before OverSampling, counts of label '1': [70475]\n",
      "Before OverSampling, counts of label '0': [120798] \n",
      "\n"
     ]
    }
   ],
   "source": [
    "print(\"counts of label '1': {}\".format(sum(y_test==1)))\n",
    "print(\"counts of label '0': {} \\n\".format(sum(y_test==0)))"
   ]
  },
  {
   "cell_type": "markdown",
   "metadata": {},
   "source": [
    "#### Scalling Data"
   ]
  },
  {
   "cell_type": "code",
   "execution_count": 317,
   "metadata": {},
   "outputs": [],
   "source": [
    "from sklearn.preprocessing import StandardScaler\n",
    "sc=StandardScaler()\n",
    "\n",
    "X_train_sc=sc.fit_transform(X_train)\n",
    "X_test_sc=sc.transform(X_test)"
   ]
  },
  {
   "cell_type": "markdown",
   "metadata": {},
   "source": [
    "## Base Model Creation"
   ]
  },
  {
   "cell_type": "code",
   "execution_count": 119,
   "metadata": {},
   "outputs": [],
   "source": [
    "#df['Same_different__listening_cat']=np.where(df['track_genre_category']==df['listener_top_genre_category_listened'],0,1)"
   ]
  },
  {
   "cell_type": "code",
   "execution_count": null,
   "metadata": {},
   "outputs": [],
   "source": []
  },
  {
   "cell_type": "code",
   "execution_count": null,
   "metadata": {},
   "outputs": [],
   "source": []
  },
  {
   "cell_type": "code",
   "execution_count": null,
   "metadata": {},
   "outputs": [],
   "source": []
  },
  {
   "cell_type": "code",
   "execution_count": null,
   "metadata": {},
   "outputs": [],
   "source": []
  },
  {
   "cell_type": "code",
   "execution_count": null,
   "metadata": {},
   "outputs": [],
   "source": []
  },
  {
   "cell_type": "code",
   "execution_count": null,
   "metadata": {},
   "outputs": [],
   "source": []
  },
  {
   "cell_type": "code",
   "execution_count": null,
   "metadata": {},
   "outputs": [],
   "source": []
  },
  {
   "cell_type": "code",
   "execution_count": null,
   "metadata": {},
   "outputs": [],
   "source": []
  },
  {
   "cell_type": "code",
   "execution_count": 121,
   "metadata": {},
   "outputs": [
    {
     "data": {
      "text/html": [
       "<div>\n",
       "<style scoped>\n",
       "    .dataframe tbody tr th:only-of-type {\n",
       "        vertical-align: middle;\n",
       "    }\n",
       "\n",
       "    .dataframe tbody tr th {\n",
       "        vertical-align: top;\n",
       "    }\n",
       "\n",
       "    .dataframe thead th {\n",
       "        text-align: right;\n",
       "    }\n",
       "</style>\n",
       "<table border=\"1\" class=\"dataframe\">\n",
       "  <thead>\n",
       "    <tr style=\"text-align: right;\">\n",
       "      <th>Like_dislike</th>\n",
       "      <th>0</th>\n",
       "      <th>1</th>\n",
       "    </tr>\n",
       "    <tr>\n",
       "      <th>Same_different__listening_cat</th>\n",
       "      <th></th>\n",
       "      <th></th>\n",
       "    </tr>\n",
       "  </thead>\n",
       "  <tbody>\n",
       "    <tr>\n",
       "      <th>0</th>\n",
       "      <td>308075</td>\n",
       "      <td>179215</td>\n",
       "    </tr>\n",
       "    <tr>\n",
       "      <th>1</th>\n",
       "      <td>173962</td>\n",
       "      <td>103840</td>\n",
       "    </tr>\n",
       "  </tbody>\n",
       "</table>\n",
       "</div>"
      ],
      "text/plain": [
       "Like_dislike                        0       1\n",
       "Same_different__listening_cat                \n",
       "0                              308075  179215\n",
       "1                              173962  103840"
      ]
     },
     "execution_count": 121,
     "metadata": {},
     "output_type": "execute_result"
    }
   ],
   "source": [
    "#pd.crosstab(df['Same_different__listening_cat'],df['Like_dislike'])"
   ]
  },
  {
   "cell_type": "markdown",
   "metadata": {},
   "source": [
    "#### Intial Handshake with data"
   ]
  },
  {
   "cell_type": "code",
   "execution_count": 47,
   "metadata": {},
   "outputs": [
    {
     "name": "stdout",
     "output_type": "stream",
     "text": [
      "Distinct Recommmended tracks:= 359055\n",
      "Distinct listener:= 49547\n"
     ]
    }
   ],
   "source": [
    "print(\"Distinct Recommmended tracks:=\",df['track_id'].nunique())\n",
    "print(\"Distinct listener:=\",df['listener_id'].nunique())"
   ]
  },
  {
   "cell_type": "code",
   "execution_count": 210,
   "metadata": {},
   "outputs": [
    {
     "data": {
      "text/html": [
       "<div>\n",
       "<style scoped>\n",
       "    .dataframe tbody tr th:only-of-type {\n",
       "        vertical-align: middle;\n",
       "    }\n",
       "\n",
       "    .dataframe tbody tr th {\n",
       "        vertical-align: top;\n",
       "    }\n",
       "\n",
       "    .dataframe thead th {\n",
       "        text-align: right;\n",
       "    }\n",
       "</style>\n",
       "<table border=\"1\" class=\"dataframe\">\n",
       "  <thead>\n",
       "    <tr style=\"text-align: right;\">\n",
       "      <th></th>\n",
       "      <th>track_duration</th>\n",
       "      <th>listen_duration</th>\n",
       "      <th>listener_prev_month_listening_time</th>\n",
       "      <th>listener_prev_month_avg_daily_tracks_listened</th>\n",
       "      <th>duration_diff</th>\n",
       "    </tr>\n",
       "  </thead>\n",
       "  <tbody>\n",
       "    <tr>\n",
       "      <th>count</th>\n",
       "      <td>7.650920e+05</td>\n",
       "      <td>7.650920e+05</td>\n",
       "      <td>7.650920e+05</td>\n",
       "      <td>765092.000000</td>\n",
       "      <td>7.650920e+05</td>\n",
       "    </tr>\n",
       "    <tr>\n",
       "      <th>mean</th>\n",
       "      <td>5.226777e+05</td>\n",
       "      <td>2.982132e+05</td>\n",
       "      <td>7.960725e+09</td>\n",
       "      <td>45.794938</td>\n",
       "      <td>2.244645e+05</td>\n",
       "    </tr>\n",
       "    <tr>\n",
       "      <th>std</th>\n",
       "      <td>9.907958e+05</td>\n",
       "      <td>5.270887e+05</td>\n",
       "      <td>1.011642e+10</td>\n",
       "      <td>43.165134</td>\n",
       "      <td>8.619153e+05</td>\n",
       "    </tr>\n",
       "    <tr>\n",
       "      <th>min</th>\n",
       "      <td>0.000000e+00</td>\n",
       "      <td>-7.049300e+04</td>\n",
       "      <td>0.000000e+00</td>\n",
       "      <td>1.500000</td>\n",
       "      <td>-2.393515e+07</td>\n",
       "    </tr>\n",
       "    <tr>\n",
       "      <th>25%</th>\n",
       "      <td>3.025630e+05</td>\n",
       "      <td>3.969700e+04</td>\n",
       "      <td>1.183196e+09</td>\n",
       "      <td>16.500000</td>\n",
       "      <td>0.000000e+00</td>\n",
       "    </tr>\n",
       "    <tr>\n",
       "      <th>50%</th>\n",
       "      <td>3.743880e+05</td>\n",
       "      <td>2.785620e+05</td>\n",
       "      <td>4.417111e+09</td>\n",
       "      <td>33.000000</td>\n",
       "      <td>0.000000e+00</td>\n",
       "    </tr>\n",
       "    <tr>\n",
       "      <th>75%</th>\n",
       "      <td>4.530220e+05</td>\n",
       "      <td>3.950080e+05</td>\n",
       "      <td>1.101478e+10</td>\n",
       "      <td>61.500000</td>\n",
       "      <td>2.856032e+05</td>\n",
       "    </tr>\n",
       "    <tr>\n",
       "      <th>max</th>\n",
       "      <td>4.200407e+07</td>\n",
       "      <td>3.465427e+07</td>\n",
       "      <td>1.264765e+11</td>\n",
       "      <td>637.500000</td>\n",
       "      <td>4.188594e+07</td>\n",
       "    </tr>\n",
       "  </tbody>\n",
       "</table>\n",
       "</div>"
      ],
      "text/plain": [
       "       track_duration  listen_duration  listener_prev_month_listening_time  \\\n",
       "count    7.650920e+05     7.650920e+05                        7.650920e+05   \n",
       "mean     5.226777e+05     2.982132e+05                        7.960725e+09   \n",
       "std      9.907958e+05     5.270887e+05                        1.011642e+10   \n",
       "min      0.000000e+00    -7.049300e+04                        0.000000e+00   \n",
       "25%      3.025630e+05     3.969700e+04                        1.183196e+09   \n",
       "50%      3.743880e+05     2.785620e+05                        4.417111e+09   \n",
       "75%      4.530220e+05     3.950080e+05                        1.101478e+10   \n",
       "max      4.200407e+07     3.465427e+07                        1.264765e+11   \n",
       "\n",
       "       listener_prev_month_avg_daily_tracks_listened  duration_diff  \n",
       "count                                  765092.000000   7.650920e+05  \n",
       "mean                                       45.794938   2.244645e+05  \n",
       "std                                        43.165134   8.619153e+05  \n",
       "min                                         1.500000  -2.393515e+07  \n",
       "25%                                        16.500000   0.000000e+00  \n",
       "50%                                        33.000000   0.000000e+00  \n",
       "75%                                        61.500000   2.856032e+05  \n",
       "max                                       637.500000   4.188594e+07  "
      ]
     },
     "execution_count": 210,
     "metadata": {},
     "output_type": "execute_result"
    }
   ],
   "source": [
    "df.describe()"
   ]
  },
  {
   "cell_type": "code",
   "execution_count": 114,
   "metadata": {},
   "outputs": [
    {
     "data": {
      "text/html": [
       "<div>\n",
       "<style scoped>\n",
       "    .dataframe tbody tr th:only-of-type {\n",
       "        vertical-align: middle;\n",
       "    }\n",
       "\n",
       "    .dataframe tbody tr th {\n",
       "        vertical-align: top;\n",
       "    }\n",
       "\n",
       "    .dataframe thead th {\n",
       "        text-align: right;\n",
       "    }\n",
       "</style>\n",
       "<table border=\"1\" class=\"dataframe\">\n",
       "  <thead>\n",
       "    <tr style=\"text-align: right;\">\n",
       "      <th></th>\n",
       "      <th>country_code</th>\n",
       "      <th>client_version</th>\n",
       "      <th>listening_context</th>\n",
       "      <th>recommender_algorithm_name</th>\n",
       "      <th>track_id</th>\n",
       "      <th>track_genre_category</th>\n",
       "      <th>listener_id</th>\n",
       "      <th>listener_top_genre_category_listened</th>\n",
       "      <th>ts_Year</th>\n",
       "      <th>ts_Month</th>\n",
       "      <th>ts_Day</th>\n",
       "      <th>ts_Hour</th>\n",
       "      <th>Like_dislike</th>\n",
       "    </tr>\n",
       "  </thead>\n",
       "  <tbody>\n",
       "    <tr>\n",
       "      <th>count</th>\n",
       "      <td>765092</td>\n",
       "      <td>765092</td>\n",
       "      <td>765092</td>\n",
       "      <td>765092</td>\n",
       "      <td>765092</td>\n",
       "      <td>765092</td>\n",
       "      <td>765092</td>\n",
       "      <td>765092</td>\n",
       "      <td>765092</td>\n",
       "      <td>765092</td>\n",
       "      <td>765092</td>\n",
       "      <td>765092</td>\n",
       "      <td>765092</td>\n",
       "    </tr>\n",
       "    <tr>\n",
       "      <th>unique</th>\n",
       "      <td>2</td>\n",
       "      <td>220</td>\n",
       "      <td>9</td>\n",
       "      <td>4</td>\n",
       "      <td>359055</td>\n",
       "      <td>13</td>\n",
       "      <td>49547</td>\n",
       "      <td>12</td>\n",
       "      <td>1</td>\n",
       "      <td>2</td>\n",
       "      <td>7</td>\n",
       "      <td>24</td>\n",
       "      <td>2</td>\n",
       "    </tr>\n",
       "    <tr>\n",
       "      <th>top</th>\n",
       "      <td>US</td>\n",
       "      <td>204.0.0</td>\n",
       "      <td>tracks</td>\n",
       "      <td>content-based</td>\n",
       "      <td>e2402bbc211467dfc821da77e4ab5677</td>\n",
       "      <td>HipHop &amp; R&amp;B</td>\n",
       "      <td>0c5439d9e0faa9415c25893efb17e115</td>\n",
       "      <td>HipHop &amp; R&amp;B</td>\n",
       "      <td>2016</td>\n",
       "      <td>7</td>\n",
       "      <td>6</td>\n",
       "      <td>21</td>\n",
       "      <td>0</td>\n",
       "    </tr>\n",
       "    <tr>\n",
       "      <th>freq</th>\n",
       "      <td>484990</td>\n",
       "      <td>388184</td>\n",
       "      <td>443121</td>\n",
       "      <td>685582</td>\n",
       "      <td>1007</td>\n",
       "      <td>407113</td>\n",
       "      <td>4809</td>\n",
       "      <td>506331</td>\n",
       "      <td>765092</td>\n",
       "      <td>652686</td>\n",
       "      <td>127757</td>\n",
       "      <td>45610</td>\n",
       "      <td>482037</td>\n",
       "    </tr>\n",
       "  </tbody>\n",
       "</table>\n",
       "</div>"
      ],
      "text/plain": [
       "       country_code client_version listening_context  \\\n",
       "count        765092         765092            765092   \n",
       "unique            2            220                 9   \n",
       "top              US        204.0.0            tracks   \n",
       "freq         484990         388184            443121   \n",
       "\n",
       "       recommender_algorithm_name                          track_id  \\\n",
       "count                      765092                            765092   \n",
       "unique                          4                            359055   \n",
       "top                 content-based  e2402bbc211467dfc821da77e4ab5677   \n",
       "freq                       685582                              1007   \n",
       "\n",
       "       track_genre_category                       listener_id  \\\n",
       "count                765092                            765092   \n",
       "unique                   13                             49547   \n",
       "top            HipHop & R&B  0c5439d9e0faa9415c25893efb17e115   \n",
       "freq                 407113                              4809   \n",
       "\n",
       "       listener_top_genre_category_listened  ts_Year  ts_Month  ts_Day  \\\n",
       "count                                765092   765092    765092  765092   \n",
       "unique                                   12        1         2       7   \n",
       "top                            HipHop & R&B     2016         7       6   \n",
       "freq                                 506331   765092    652686  127757   \n",
       "\n",
       "        ts_Hour  Like_dislike  \n",
       "count    765092        765092  \n",
       "unique       24             2  \n",
       "top          21             0  \n",
       "freq      45610        482037  "
      ]
     },
     "execution_count": 114,
     "metadata": {},
     "output_type": "execute_result"
    }
   ],
   "source": [
    "df.describe(include=['O'])"
   ]
  },
  {
   "cell_type": "markdown",
   "metadata": {},
   "source": [
    "### Features weitage to drive like and dislike"
   ]
  },
  {
   "cell_type": "code",
   "execution_count": 56,
   "metadata": {},
   "outputs": [
    {
     "data": {
      "text/plain": [
       "271951"
      ]
     },
     "execution_count": 56,
     "metadata": {},
     "output_type": "execute_result"
    }
   ],
   "source": [
    "df[df['Like_dislike']==1]['listener_id'].count()"
   ]
  },
  {
   "cell_type": "code",
   "execution_count": null,
   "metadata": {},
   "outputs": [],
   "source": [
    "df.groupby('Like_dislike')"
   ]
  },
  {
   "cell_type": "code",
   "execution_count": 57,
   "metadata": {},
   "outputs": [
    {
     "data": {
      "text/plain": [
       "<matplotlib.axes._subplots.AxesSubplot at 0x1673ed15198>"
      ]
     },
     "execution_count": 57,
     "metadata": {},
     "output_type": "execute_result"
    },
    {
     "data": {
      "image/png": "[encoded data removed]",
      "text/plain": [
       "<Figure size 432x288 with 1 Axes>"
      ]
     },
     "metadata": {
      "needs_background": "light"
     },
     "output_type": "display_data"
    }
   ],
   "source": [
    "sns.countplot(x='recommender_algorithm_name', hue='Like_dislike', data =df)"
   ]
  },
  {
   "cell_type": "code",
   "execution_count": 64,
   "metadata": {},
   "outputs": [
    {
     "data": {
      "text/plain": [
       "[Text(0,0,'HipHop & R&B'),\n",
       " Text(0,0,'Dance & Electronic'),\n",
       " Text(0,0,'Metal'),\n",
       " Text(0,0,'Classical'),\n",
       " Text(0,0,'Pop'),\n",
       " Text(0,0,'Reggae'),\n",
       " Text(0,0,'Speech'),\n",
       " Text(0,0,'World'),\n",
       " Text(0,0,'Latin'),\n",
       " Text(0,0,'Rock'),\n",
       " Text(0,0,'Jazz'),\n",
       " Text(0,0,'Country')]"
      ]
     },
     "execution_count": 64,
     "metadata": {},
     "output_type": "execute_result"
    },
    {
     "data": {
      "image/png": "[encoded data removed]",
      "text/plain": [
       "<Figure size 720x360 with 1 Axes>"
      ]
     },
     "metadata": {
      "needs_background": "light"
     },
     "output_type": "display_data"
    }
   ],
   "source": [
    "#sns.countplot(x='listener_top_genre_category_listened', hue='Like_dislike', data =df)\n",
    "\n",
    "\n",
    "plt.figure(figsize=(10,5))\n",
    "chart = sns.countplot(\n",
    "    data=df,\n",
    "    x='listener_top_genre_category_listened',\n",
    "    hue='Like_dislike'\n",
    ")\n",
    "chart.set_xticklabels(chart.get_xticklabels(), rotation=45)"
   ]
  },
  {
   "cell_type": "code",
   "execution_count": 63,
   "metadata": {},
   "outputs": [
    {
     "data": {
      "text/plain": [
       "[Text(0,0,'tracks'),\n",
       " Text(0,0,'users'),\n",
       " Text(0,0,'collection'),\n",
       " Text(0,0,'playlists'),\n",
       " Text(0,0,'stream'),\n",
       " Text(0,0,'you'),\n",
       " Text(0,0,'search'),\n",
       " Text(0,0,'personal-recommended'),\n",
       " Text(0,0,'charts')]"
      ]
     },
     "execution_count": 63,
     "metadata": {},
     "output_type": "execute_result"
    },
    {
     "data": {
      "image/png": "[encoded data removed]",
      "text/plain": [
       "<Figure size 720x360 with 1 Axes>"
      ]
     },
     "metadata": {
      "needs_background": "light"
     },
     "output_type": "display_data"
    }
   ],
   "source": [
    "#sns.countplot(x='listening_context', hue='Like_dislike', data =df)\n",
    "\n",
    "plt.figure(figsize=(10,5))\n",
    "chart = sns.countplot(\n",
    "    data=df,\n",
    "    x='listening_context',\n",
    "    hue='Like_dislike'\n",
    ")\n",
    "chart.set_xticklabels(chart.get_xticklabels(), rotation=45)\n"
   ]
  },
  {
   "cell_type": "code",
   "execution_count": 164,
   "metadata": {},
   "outputs": [
    {
     "data": {
      "text/plain": [
       "[Text(0,0,'204.0.20'),\n",
       " Text(0,0,'36.0.8'),\n",
       " Text(0,0,'204.0.8'),\n",
       " Text(0,0,'204.0.0'),\n",
       " Text(0,0,'188.0.0'),\n",
       " Text(0,0,'36.0.0'),\n",
       " Text(0,0,'204.0.16'),\n",
       " Text(0,0,'204.0.24'),\n",
       " Text(0,0,'36.4.20'),\n",
       " Text(0,0,'204.0.12'),\n",
       " Text(0,0,'208.0.0'),\n",
       " Text(0,0,'196.0.0'),\n",
       " Text(0,0,'36.4.16'),\n",
       " Text(0,0,'208.0.20'),\n",
       " Text(0,0,'204.0.4'),\n",
       " Text(0,0,'184.0.0'),\n",
       " Text(0,0,'36.0.20'),\n",
       " Text(0,0,'44.0.0'),\n",
       " Text(0,0,'172.0.0'),\n",
       " Text(0,0,'36.4.24'),\n",
       " Text(0,0,'36.8.8'),\n",
       " Text(0,0,'32.0.12'),\n",
       " Text(0,0,'172.0.20'),\n",
       " Text(0,0,'28.0.8'),\n",
       " Text(0,0,'36.0.4'),\n",
       " Text(0,0,'104.12.0'),\n",
       " Text(0,0,'200.0.20'),\n",
       " Text(0,0,'36.0.12'),\n",
       " Text(0,0,'136.0.0'),\n",
       " Text(0,0,'168.0.0'),\n",
       " Text(0,0,'152.0.0'),\n",
       " Text(0,0,'196.0.32'),\n",
       " Text(0,0,'180.0.0'),\n",
       " Text(0,0,'140.0.0'),\n",
       " Text(0,0,'28.0.20'),\n",
       " Text(0,0,'188.0.16'),\n",
       " Text(0,0,'32.0.8'),\n",
       " Text(0,0,'144.0.8'),\n",
       " Text(0,0,'176.0.0'),\n",
       " Text(0,0,'208.0.24'),\n",
       " Text(0,0,'196.0.20'),\n",
       " Text(0,0,'24.4.20'),\n",
       " Text(0,0,'24.8.20'),\n",
       " Text(0,0,'200.0.0'),\n",
       " Text(0,0,'176.0.16'),\n",
       " Text(0,0,'192.0.0'),\n",
       " Text(0,0,'32.0.20'),\n",
       " Text(0,0,'156.0.20'),\n",
       " Text(0,0,'32.0.16'),\n",
       " Text(0,0,'152.0.20'),\n",
       " Text(0,0,'200.0.12'),\n",
       " Text(0,0,'28.4.20'),\n",
       " Text(0,0,'32.0.0'),\n",
       " Text(0,0,'200.0.24'),\n",
       " Text(0,0,'180.0.20'),\n",
       " Text(0,0,'32.0.4'),\n",
       " Text(0,0,'164.0.20'),\n",
       " Text(0,0,'200.0.4'),\n",
       " Text(0,0,'132.0.0'),\n",
       " Text(0,0,'192.0.20'),\n",
       " Text(0,0,'148.0.0'),\n",
       " Text(0,0,'200.0.16'),\n",
       " Text(0,0,'164.0.8'),\n",
       " Text(0,0,'212.0.0'),\n",
       " Text(0,0,'208.0.16'),\n",
       " Text(0,0,'156.0.0'),\n",
       " Text(0,0,'124.0.0'),\n",
       " Text(0,0,'120.0.0'),\n",
       " Text(0,0,'184.0.16'),\n",
       " Text(0,0,'196.0.16'),\n",
       " Text(0,0,'172.0.12'),\n",
       " Text(0,0,'184.0.12'),\n",
       " Text(0,0,'172.0.4'),\n",
       " Text(0,0,'144.0.20'),\n",
       " Text(0,0,'144.0.0'),\n",
       " Text(0,0,'160.4.0'),\n",
       " Text(0,0,'160.0.0'),\n",
       " Text(0,0,'2404.24.20'),\n",
       " Text(0,0,'128.0.0'),\n",
       " Text(0,0,'16.36.0'),\n",
       " Text(0,0,'40.0.0'),\n",
       " Text(0,0,'116.0.16'),\n",
       " Text(0,0,'32.16.0'),\n",
       " Text(0,0,'188.0.20'),\n",
       " Text(0,0,'36.0.24'),\n",
       " Text(0,0,'2404.4.0'),\n",
       " Text(0,0,'192.0.32'),\n",
       " Text(0,0,'196.0.12'),\n",
       " Text(0,0,'112.0.0'),\n",
       " Text(0,0,'0.0.0'),\n",
       " Text(0,0,'116.0.0'),\n",
       " Text(0,0,'200.0.8'),\n",
       " Text(0,0,'32.4.0'),\n",
       " Text(0,0,'92.0.0'),\n",
       " Text(0,0,'40.0.24'),\n",
       " Text(0,0,'0.0.20'),\n",
       " Text(0,0,'28.0.16'),\n",
       " Text(0,0,'36.4.4'),\n",
       " Text(0,0,'212.0.16'),\n",
       " Text(0,0,'208.0.8'),\n",
       " Text(0,0,'36.8.0'),\n",
       " Text(0,0,'96.0.0'),\n",
       " Text(0,0,'28.0.4'),\n",
       " Text(0,0,'20.4.32'),\n",
       " Text(0,0,'2404.28.24'),\n",
       " Text(0,0,'100.0.32'),\n",
       " Text(0,0,'152.0.24'),\n",
       " Text(0,0,'180.0.16'),\n",
       " Text(0,0,'16.16.8'),\n",
       " Text(0,0,'216.0.20'),\n",
       " Text(0,0,'196.0.4'),\n",
       " Text(0,0,'152.0.16'),\n",
       " Text(0,0,'188.0.12'),\n",
       " Text(0,0,'188.0.4'),\n",
       " Text(0,0,'168.0.20'),\n",
       " Text(0,0,'2400.4.0'),\n",
       " Text(0,0,'148.0.20'),\n",
       " Text(0,0,'208.0.4'),\n",
       " Text(0,0,'100.0.0'),\n",
       " Text(0,0,'192.0.16'),\n",
       " Text(0,0,'196.8.0'),\n",
       " Text(0,0,'200.12.0'),\n",
       " Text(0,0,'164.0.0'),\n",
       " Text(0,0,'152.0.12'),\n",
       " Text(0,0,'196.0.8'),\n",
       " Text(0,0,'16.20.20'),\n",
       " Text(0,0,'192.0.8'),\n",
       " Text(0,0,'184.0.4'),\n",
       " Text(0,0,'140.0.20'),\n",
       " Text(0,0,'168.0.12'),\n",
       " Text(0,0,'2400.32.20'),\n",
       " Text(0,0,'152.0.4'),\n",
       " Text(0,0,'16.16.0'),\n",
       " Text(0,0,'116.0.20'),\n",
       " Text(0,0,'208.0.12'),\n",
       " Text(0,0,'216.0.0'),\n",
       " Text(0,0,'16.0.0'),\n",
       " Text(0,0,'64.0.0'),\n",
       " Text(0,0,'196.0.24'),\n",
       " Text(0,0,'0.0.12'),\n",
       " Text(0,0,'108.0.0'),\n",
       " Text(0,0,'104.0.0'),\n",
       " Text(0,0,'212.0.20'),\n",
       " Text(0,0,'160.0.20'),\n",
       " Text(0,0,'28.0.0'),\n",
       " Text(0,0,'172.0.16'),\n",
       " Text(0,0,'32.12.0'),\n",
       " Text(0,0,'192.0.12'),\n",
       " Text(0,0,'184.0.20'),\n",
       " Text(0,0,'180.0.12'),\n",
       " Text(0,0,'100.0.20'),\n",
       " Text(0,0,'20.4.4'),\n",
       " Text(0,0,'164.0.12'),\n",
       " Text(0,0,'156.0.32'),\n",
       " Text(0,0,'204.80.0'),\n",
       " Text(0,0,'168.0.16'),\n",
       " Text(0,0,'156.0.12'),\n",
       " Text(0,0,'196.0.28'),\n",
       " Text(0,0,'24.0.4'),\n",
       " Text(0,0,'212.0.8'),\n",
       " Text(0,0,'176.0.20'),\n",
       " Text(0,0,'84.0.0'),\n",
       " Text(0,0,'36.16.0'),\n",
       " Text(0,0,'200.12.8'),\n",
       " Text(0,0,'164.0.16'),\n",
       " Text(0,0,'152.0.32'),\n",
       " Text(0,0,'164.0.24'),\n",
       " Text(0,0,'156.24.0'),\n",
       " Text(0,0,'132.0.20'),\n",
       " Text(0,0,'188.0.8'),\n",
       " Text(0,0,'20.4.0'),\n",
       " Text(0,0,'180.0.8'),\n",
       " Text(0,0,'192.0.24'),\n",
       " Text(0,0,'36.12.12'),\n",
       " Text(0,0,'32.8.8'),\n",
       " Text(0,0,'188.0.32'),\n",
       " Text(0,0,'300.4.0'),\n",
       " Text(0,0,'88.0.0'),\n",
       " Text(0,0,'24.0.0'),\n",
       " Text(0,0,'176.0.12'),\n",
       " Text(0,0,'2404.20.16'),\n",
       " Text(0,0,'28.0.12'),\n",
       " Text(0,0,'64.24.0'),\n",
       " Text(0,0,'192.0.4'),\n",
       " Text(0,0,'32.4.4'),\n",
       " Text(0,0,'84.0.32'),\n",
       " Text(0,0,'184.0.8'),\n",
       " Text(0,0,'104.8.0'),\n",
       " Text(0,0,'172.0.8'),\n",
       " Text(0,0,'148.0.8'),\n",
       " Text(0,0,'204.24.0'),\n",
       " Text(0,0,'112.0.12'),\n",
       " Text(0,0,'20.4.20'),\n",
       " Text(0,0,'148.0.12'),\n",
       " Text(0,0,'160.0.24'),\n",
       " Text(0,0,'36.4.0'),\n",
       " Text(0,0,'0.0.8'),\n",
       " Text(0,0,'124.0.20'),\n",
       " Text(0,0,'216.0.24'),\n",
       " Text(0,0,'188.0.24'),\n",
       " Text(0,0,'20.0.0'),\n",
       " Text(0,0,'136.0.8'),\n",
       " Text(0,0,'204.100.0'),\n",
       " Text(0,0,'2404.16.12'),\n",
       " Text(0,0,'180.0.32'),\n",
       " Text(0,0,'212.0.24'),\n",
       " Text(0,0,'180.0.28'),\n",
       " Text(0,0,'28.0.24'),\n",
       " Text(0,0,'40.0.20'),\n",
       " Text(0,0,'136.0.20'),\n",
       " Text(0,0,'204.76.0'),\n",
       " Text(0,0,'172.9428.16'),\n",
       " Text(0,0,'204.28.0'),\n",
       " Text(0,0,'172.0.24'),\n",
       " Text(0,0,'216.0.12'),\n",
       " Text(0,0,'172.0.32'),\n",
       " Text(0,0,'28.12.12'),\n",
       " Text(0,0,'124.0.4'),\n",
       " Text(0,0,'124.0.32'),\n",
       " Text(0,0,'156.0.4')]"
      ]
     },
     "execution_count": 164,
     "metadata": {},
     "output_type": "execute_result"
    },
    {
     "data": {
      "image/png": "[encoded data removed]",
      "text/plain": [
       "<Figure size 720x360 with 1 Axes>"
      ]
     },
     "metadata": {
      "needs_background": "light"
     },
     "output_type": "display_data"
    }
   ],
   "source": [
    "plt.figure(figsize=(10,5))\n",
    "chart = sns.countplot(\n",
    "    data=df,\n",
    "    x='client_version',\n",
    "    hue='Like_dislike'\n",
    ")\n",
    "chart.set_xticklabels(chart.get_xticklabels(), rotation=45)"
   ]
  },
  {
   "cell_type": "code",
   "execution_count": 28,
   "metadata": {},
   "outputs": [
    {
     "data": {
      "text/plain": [
       "ts_Month\n",
       "6    48.943376\n",
       "7    45.176061\n",
       "Name: listener_prev_month_avg_daily_tracks_listened, dtype: float64"
      ]
     },
     "execution_count": 28,
     "metadata": {},
     "output_type": "execute_result"
    }
   ],
   "source": [
    "df.groupby('ts_Month')['listener_prev_month_avg_daily_tracks_listened'].mean()"
   ]
  },
  {
   "cell_type": "code",
   "execution_count": null,
   "metadata": {},
   "outputs": [],
   "source": [
    "df['ts_Month'].unique()"
   ]
  },
  {
   "cell_type": "code",
   "execution_count": 29,
   "metadata": {},
   "outputs": [
    {
     "data": {
      "text/plain": [
       "ts_Month\n",
       "6    118240\n",
       "7    709929\n",
       "Name: listener_id, dtype: int64"
      ]
     },
     "execution_count": 29,
     "metadata": {},
     "output_type": "execute_result"
    }
   ],
   "source": [
    "df.groupby('ts_Month')['listener_id'].count()"
   ]
  },
  {
   "cell_type": "code",
   "execution_count": 12,
   "metadata": {},
   "outputs": [
    {
     "data": {
      "text/html": [
       "<div>\n",
       "<style scoped>\n",
       "    .dataframe tbody tr th:only-of-type {\n",
       "        vertical-align: middle;\n",
       "    }\n",
       "\n",
       "    .dataframe tbody tr th {\n",
       "        vertical-align: top;\n",
       "    }\n",
       "\n",
       "    .dataframe thead th {\n",
       "        text-align: right;\n",
       "    }\n",
       "</style>\n",
       "<table border=\"1\" class=\"dataframe\">\n",
       "  <thead>\n",
       "    <tr style=\"text-align: right;\">\n",
       "      <th></th>\n",
       "      <th>ts</th>\n",
       "      <th>country_code</th>\n",
       "      <th>client_version</th>\n",
       "      <th>listening_context</th>\n",
       "      <th>recommender_algorithm_name</th>\n",
       "      <th>track_id</th>\n",
       "      <th>track_genre_category</th>\n",
       "      <th>track_upload_date</th>\n",
       "      <th>track_duration</th>\n",
       "      <th>listen_duration</th>\n",
       "      <th>listener_id</th>\n",
       "      <th>listener_signup_date</th>\n",
       "      <th>listener_top_genre_category_listened</th>\n",
       "      <th>listener_prev_month_listening_time</th>\n",
       "      <th>listener_prev_month_avg_daily_tracks_listened</th>\n",
       "      <th>ts_Year</th>\n",
       "      <th>ts_Month</th>\n",
       "      <th>ts_Day</th>\n",
       "      <th>ts_Hour</th>\n",
       "    </tr>\n",
       "  </thead>\n",
       "  <tbody>\n",
       "    <tr>\n",
       "      <th>121</th>\n",
       "      <td>2016-06-26 19:12:22</td>\n",
       "      <td>US</td>\n",
       "      <td>36.4.20</td>\n",
       "      <td>tracks</td>\n",
       "      <td>collaborative</td>\n",
       "      <td>eb23bfabf4d46ff4f2fb3e0caedcaea8</td>\n",
       "      <td>Speech</td>\n",
       "      <td>2015-12-15 00:00:00</td>\n",
       "      <td>426781</td>\n",
       "      <td>14721</td>\n",
       "      <td>000475010431369b2de9db784135acd0</td>\n",
       "      <td>2013-11-17 00:00:00</td>\n",
       "      <td>Jazz</td>\n",
       "      <td>NaN</td>\n",
       "      <td>NaN</td>\n",
       "      <td>2016</td>\n",
       "      <td>6</td>\n",
       "      <td>6</td>\n",
       "      <td>19</td>\n",
       "    </tr>\n",
       "    <tr>\n",
       "      <th>154</th>\n",
       "      <td>2016-06-26 03:12:38</td>\n",
       "      <td>GB</td>\n",
       "      <td>204.0.0</td>\n",
       "      <td>users</td>\n",
       "      <td>content-based</td>\n",
       "      <td>b8322e103ad39ef30d2b13ea7fc2ac2e</td>\n",
       "      <td>Pop</td>\n",
       "      <td>2016-02-23 00:00:00</td>\n",
       "      <td>371691</td>\n",
       "      <td>17804</td>\n",
       "      <td>000c7ab2b64e766d98a5e174671ef574</td>\n",
       "      <td>2016-04-28 00:00:00</td>\n",
       "      <td>HipHop &amp; R&amp;B</td>\n",
       "      <td>NaN</td>\n",
       "      <td>NaN</td>\n",
       "      <td>2016</td>\n",
       "      <td>6</td>\n",
       "      <td>6</td>\n",
       "      <td>3</td>\n",
       "    </tr>\n",
       "    <tr>\n",
       "      <th>182</th>\n",
       "      <td>2016-06-27 16:45:09</td>\n",
       "      <td>US</td>\n",
       "      <td>152.0.32</td>\n",
       "      <td>tracks</td>\n",
       "      <td>content-based</td>\n",
       "      <td>270bd39b2552409581786fa0da861fc9</td>\n",
       "      <td>Dance &amp; Electronic</td>\n",
       "      <td>2016-03-24 00:00:00</td>\n",
       "      <td>557125</td>\n",
       "      <td>557125</td>\n",
       "      <td>00152c7d930da31e8c1b017be89a6109</td>\n",
       "      <td>2015-02-27 00:00:00</td>\n",
       "      <td>Dance &amp; Electronic</td>\n",
       "      <td>NaN</td>\n",
       "      <td>NaN</td>\n",
       "      <td>2016</td>\n",
       "      <td>6</td>\n",
       "      <td>0</td>\n",
       "      <td>16</td>\n",
       "    </tr>\n",
       "    <tr>\n",
       "      <th>183</th>\n",
       "      <td>2016-06-27 16:50:28</td>\n",
       "      <td>US</td>\n",
       "      <td>152.0.32</td>\n",
       "      <td>tracks</td>\n",
       "      <td>content-based</td>\n",
       "      <td>26ad976778ddee6a568d9b37fb858b6f</td>\n",
       "      <td>Dance &amp; Electronic</td>\n",
       "      <td>2016-04-15 00:00:00</td>\n",
       "      <td>877704</td>\n",
       "      <td>877704</td>\n",
       "      <td>00152c7d930da31e8c1b017be89a6109</td>\n",
       "      <td>2015-02-27 00:00:00</td>\n",
       "      <td>Dance &amp; Electronic</td>\n",
       "      <td>NaN</td>\n",
       "      <td>NaN</td>\n",
       "      <td>2016</td>\n",
       "      <td>6</td>\n",
       "      <td>0</td>\n",
       "      <td>16</td>\n",
       "    </tr>\n",
       "    <tr>\n",
       "      <th>184</th>\n",
       "      <td>2016-06-27 16:58:50</td>\n",
       "      <td>US</td>\n",
       "      <td>152.0.32</td>\n",
       "      <td>tracks</td>\n",
       "      <td>content-based</td>\n",
       "      <td>611fe9765b6fed7c30a4eb588bcc12cd</td>\n",
       "      <td>HipHop &amp; R&amp;B</td>\n",
       "      <td>2016-04-15 00:00:00</td>\n",
       "      <td>744753</td>\n",
       "      <td>744753</td>\n",
       "      <td>00152c7d930da31e8c1b017be89a6109</td>\n",
       "      <td>2015-02-27 00:00:00</td>\n",
       "      <td>Dance &amp; Electronic</td>\n",
       "      <td>NaN</td>\n",
       "      <td>NaN</td>\n",
       "      <td>2016</td>\n",
       "      <td>6</td>\n",
       "      <td>0</td>\n",
       "      <td>16</td>\n",
       "    </tr>\n",
       "  </tbody>\n",
       "</table>\n",
       "</div>"
      ],
      "text/plain": [
       "                      ts country_code client_version listening_context  \\\n",
       "121  2016-06-26 19:12:22           US        36.4.20            tracks   \n",
       "154  2016-06-26 03:12:38           GB        204.0.0             users   \n",
       "182  2016-06-27 16:45:09           US       152.0.32            tracks   \n",
       "183  2016-06-27 16:50:28           US       152.0.32            tracks   \n",
       "184  2016-06-27 16:58:50           US       152.0.32            tracks   \n",
       "\n",
       "    recommender_algorithm_name                          track_id  \\\n",
       "121              collaborative  eb23bfabf4d46ff4f2fb3e0caedcaea8   \n",
       "154              content-based  b8322e103ad39ef30d2b13ea7fc2ac2e   \n",
       "182              content-based  270bd39b2552409581786fa0da861fc9   \n",
       "183              content-based  26ad976778ddee6a568d9b37fb858b6f   \n",
       "184              content-based  611fe9765b6fed7c30a4eb588bcc12cd   \n",
       "\n",
       "    track_genre_category    track_upload_date  track_duration  \\\n",
       "121               Speech  2015-12-15 00:00:00          426781   \n",
       "154                  Pop  2016-02-23 00:00:00          371691   \n",
       "182   Dance & Electronic  2016-03-24 00:00:00          557125   \n",
       "183   Dance & Electronic  2016-04-15 00:00:00          877704   \n",
       "184         HipHop & R&B  2016-04-15 00:00:00          744753   \n",
       "\n",
       "     listen_duration                       listener_id listener_signup_date  \\\n",
       "121            14721  000475010431369b2de9db784135acd0  2013-11-17 00:00:00   \n",
       "154            17804  000c7ab2b64e766d98a5e174671ef574  2016-04-28 00:00:00   \n",
       "182           557125  00152c7d930da31e8c1b017be89a6109  2015-02-27 00:00:00   \n",
       "183           877704  00152c7d930da31e8c1b017be89a6109  2015-02-27 00:00:00   \n",
       "184           744753  00152c7d930da31e8c1b017be89a6109  2015-02-27 00:00:00   \n",
       "\n",
       "    listener_top_genre_category_listened  listener_prev_month_listening_time  \\\n",
       "121                                 Jazz                                 NaN   \n",
       "154                         HipHop & R&B                                 NaN   \n",
       "182                   Dance & Electronic                                 NaN   \n",
       "183                   Dance & Electronic                                 NaN   \n",
       "184                   Dance & Electronic                                 NaN   \n",
       "\n",
       "     listener_prev_month_avg_daily_tracks_listened  ts_Year  ts_Month  ts_Day  \\\n",
       "121                                            NaN     2016         6       6   \n",
       "154                                            NaN     2016         6       6   \n",
       "182                                            NaN     2016         6       0   \n",
       "183                                            NaN     2016         6       0   \n",
       "184                                            NaN     2016         6       0   \n",
       "\n",
       "     ts_Hour  \n",
       "121       19  \n",
       "154        3  \n",
       "182       16  \n",
       "183       16  \n",
       "184       16  "
      ]
     },
     "execution_count": 12,
     "metadata": {},
     "output_type": "execute_result"
    }
   ],
   "source": [
    "df[df['listener_prev_month_listening_time'].isnull()].head()"
   ]
  },
  {
   "cell_type": "code",
   "execution_count": null,
   "metadata": {},
   "outputs": [],
   "source": [
    "df[df['listen_duration']<0]['listener_id'].plot().hist()\n",
    "\n",
    "print(\"Negative Listen duration:\",df[df['listen_duration']<0]['listener_id'].count())"
   ]
  },
  {
   "cell_type": "code",
   "execution_count": 34,
   "metadata": {},
   "outputs": [
    {
     "data": {
      "text/plain": [
       "53.27946349114734"
      ]
     },
     "execution_count": 34,
     "metadata": {},
     "output_type": "execute_result"
    }
   ],
   "source": [
    "(df[df['listen_duration']<df['listen_duration'].mean()]['listener_id'].count()/df['listener_id'].count())*100"
   ]
  },
  {
   "cell_type": "code",
   "execution_count": null,
   "metadata": {},
   "outputs": [],
   "source": [
    "sns.boxplot(x='listen_duration',y='ts_Month', data=df, palette='winter')\n",
    "sns.set_style('whitegrid')"
   ]
  },
  {
   "cell_type": "code",
   "execution_count": null,
   "metadata": {},
   "outputs": [],
   "source": [
    "sns.boxplot(x='listen_duration',y='recommender_algorithm_name', data=df, palette='winter')\n",
    "sns.set_style('whitegrid')"
   ]
  },
  {
   "cell_type": "code",
   "execution_count": null,
   "metadata": {},
   "outputs": [],
   "source": [
    "sns.boxplot(x='listen_duration',y='listener_top_genre_category_listened', data=df, palette='winter')\n",
    "sns.set_style('whitegrid')"
   ]
  },
  {
   "cell_type": "code",
   "execution_count": null,
   "metadata": {},
   "outputs": [],
   "source": []
  }
 ],
 "metadata": {
  "kernelspec": {
   "display_name": "Python 3",
   "language": "python",
   "name": "python3"
  },
  "language_info": {
   "codemirror_mode": {
    "name": "ipython",
    "version": 3
   },
   "file_extension": ".py",
   "mimetype": "text/x-python",
   "name": "python",
   "nbconvert_exporter": "python",
   "pygments_lexer": "ipython3",
   "version": "3.7.3"
  },
  "toc": {
   "base_numbering": 1,
   "nav_menu": {},
   "number_sections": true,
   "sideBar": true,
   "skip_h1_title": false,
   "title_cell": "Table of Contents",
   "title_sidebar": "Contents",
   "toc_cell": false,
   "toc_position": {},
   "toc_section_display": true,
   "toc_window_display": false
  },
  "varInspector": {
   "cols": {
    "lenName": 16,
    "lenType": 16,
    "lenVar": 40
   },
   "kernels_config": {
    "python": {
     "delete_cmd_postfix": "",
     "delete_cmd_prefix": "del ",
     "library": "var_list.py",
     "varRefreshCmd": "print(var_dic_list())"
    },
    "r": {
     "delete_cmd_postfix": ") ",
     "delete_cmd_prefix": "rm(",
     "library": "var_list.r",
     "varRefreshCmd": "cat(var_dic_list()) "
    }
   },
   "types_to_exclude": [
    "module",
    "function",
    "builtin_function_or_method",
    "instance",
    "_Feature"
   ],
   "window_display": false
  }
 },
 "nbformat": 4,
 "nbformat_minor": 2
}

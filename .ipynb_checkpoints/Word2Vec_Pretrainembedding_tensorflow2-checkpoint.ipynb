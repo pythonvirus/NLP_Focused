{
 "cells": [
  {
   "cell_type": "markdown",
   "metadata": {
    "colab_type": "text",
    "id": "rWJQ88snC89R"
   },
   "source": [
    "<a href=\"https://colab.research.google.com/github/minsuk-heo/tf2/blob/master/jupyter_notebooks/09.Word2Vec.ipynb\" target=\"_parent\"><img src=\"https://colab.research.google.com/assets/colab-badge.svg\" alt=\"Open In Colab\"/></a>"
   ]
  },
  {
   "cell_type": "code",
   "execution_count": 1,
   "metadata": {
    "colab": {},
    "colab_type": "code",
    "id": "Jjp3uYt3C89U"
   },
   "outputs": [],
   "source": [
    "import tensorflow as tf\n",
    "import tensorflow_hub as hub\n",
    "import numpy as np"
   ]
  },
  {
   "cell_type": "code",
   "execution_count": 3,
   "metadata": {
    "colab": {},
    "colab_type": "code",
    "id": "qypW1LGyC89i"
   },
   "outputs": [],
   "source": [
    "# Load Pretrained Word2Vec\n",
    "embed = hub.load(\"https://tfhub.dev/google/Wiki-words-250-with-normalization/2\")"
   ]
  },
  {
   "cell_type": "code",
   "execution_count": 4,
   "metadata": {
    "colab": {
     "base_uri": "https://localhost:8080/",
     "height": 74
    },
    "colab_type": "code",
    "id": "fK_cKGG2C89o",
    "outputId": "6e03a032-59fb-436d-e1e7-a44089a806ff"
   },
   "outputs": [
    {
     "name": "stdout",
     "output_type": "stream",
     "text": [
      "WARNING:tensorflow:5 out of the last 5 calls to <function recreate_function.<locals>.restored_function_body at 0x7f197d85f510> triggered tf.function retracing. Tracing is expensive and the excessive number of tracings could be due to (1) creating @tf.function repeatedly in a loop, (2) passing tensors with different shapes, (3) passing Python objects instead of tensors. For (1), please define your @tf.function outside of the loop. For (2), @tf.function has experimental_relax_shapes=True option that relaxes argument shapes that can avoid unnecessary retracing. For (3), please refer to https://www.tensorflow.org/tutorials/customization/performance#python_or_tensor_args and https://www.tensorflow.org/api_docs/python/tf/function for  more details.\n"
     ]
    },
    {
     "name": "stderr",
     "output_type": "stream",
     "text": [
      "WARNING:tensorflow:5 out of the last 5 calls to <function recreate_function.<locals>.restored_function_body at 0x7f197d85f510> triggered tf.function retracing. Tracing is expensive and the excessive number of tracings could be due to (1) creating @tf.function repeatedly in a loop, (2) passing tensors with different shapes, (3) passing Python objects instead of tensors. For (1), please define your @tf.function outside of the loop. For (2), @tf.function has experimental_relax_shapes=True option that relaxes argument shapes that can avoid unnecessary retracing. For (3), please refer to https://www.tensorflow.org/tutorials/customization/performance#python_or_tensor_args and https://www.tensorflow.org/api_docs/python/tf/function for  more details.\n"
     ]
    }
   ],
   "source": [
    "words = [\"coffee\", \"cafe\", \"football\", \"soccer\"]\n",
    "# Compute embeddings.\n",
    "embeddings = embed(words)"
   ]
  },
  {
   "cell_type": "code",
   "execution_count": 5,
   "metadata": {
    "colab": {
     "base_uri": "https://localhost:8080/",
     "height": 35
    },
    "colab_type": "code",
    "id": "zrHrGEAfC89u",
    "outputId": "cd0fb520-3ae2-47d7-ca78-ec6dbad89eb9"
   },
   "outputs": [
    {
     "name": "stdout",
     "output_type": "stream",
     "text": [
      "(4, 250)\n"
     ]
    }
   ],
   "source": [
    "print(embeddings.shape)"
   ]
  },
  {
   "cell_type": "code",
   "execution_count": 6,
   "metadata": {
    "colab": {
     "base_uri": "https://localhost:8080/",
     "height": 799
    },
    "colab_type": "code",
    "id": "KdOi6pzpC893",
    "outputId": "18b75fa5-d833-4cb6-992b-4ccd86a5273e"
   },
   "outputs": [
    {
     "name": "stdout",
     "output_type": "stream",
     "text": [
      "tf.Tensor(\n",
      "[-0.02354056 -0.08136939 -0.09588724  0.04267474 -0.03513853  0.09099629\n",
      " -0.01959137 -0.07235982 -0.04527646 -0.02064468 -0.05868183  0.05026427\n",
      "  0.08757452 -0.02868579 -0.00528093 -0.07107743 -0.00430126 -0.1111517\n",
      " -0.0371297  -0.07397588  0.01366727  0.04489887  0.10918173 -0.00385636\n",
      " -0.00768068 -0.12602517  0.0073157   0.0887766  -0.06376575 -0.02794223\n",
      "  0.07697963 -0.00691205 -0.05405519 -0.11509552  0.02446181 -0.01677185\n",
      " -0.07807938 -0.05697621 -0.08125712 -0.08814868 -0.08236694 -0.08067547\n",
      "  0.0609058  -0.03083544 -0.03890334 -0.04752342  0.05156425  0.06546737\n",
      " -0.00422008 -0.05087236  0.00757163 -0.05662974 -0.02225585  0.09144896\n",
      "  0.01537593 -0.03186006 -0.07453508 -0.09245355 -0.0335355  -0.02733024\n",
      " -0.09283264  0.07827969  0.01312644  0.01702355  0.03512271 -0.06434979\n",
      " -0.07367618  0.02042403 -0.09727054 -0.02774223  0.09928335  0.06212646\n",
      "  0.09546035 -0.04408428 -0.00725705 -0.00057283 -0.0287641   0.03661085\n",
      " -0.05806859 -0.05408818  0.0231409  -0.07298388  0.1646798   0.07809006\n",
      " -0.01111982  0.14087161 -0.04396361  0.04126683  0.02877898  0.01905746\n",
      "  0.1105309   0.06654984 -0.00078718 -0.09800068  0.07190014 -0.131704\n",
      " -0.03441447 -0.02738335  0.03093908 -0.01418934  0.04429242 -0.01806876\n",
      "  0.04542694 -0.05444206 -0.08348989 -0.05099544  0.04747298  0.06506849\n",
      " -0.05768571 -0.00440776  0.01051272 -0.08287345  0.11204316 -0.05460041\n",
      "  0.00567209 -0.07521604  0.11076885 -0.04829612  0.05183472 -0.04895689\n",
      " -0.02137397  0.02561938 -0.05885033  0.04311425 -0.07235826 -0.09585836\n",
      " -0.03546391  0.00806308 -0.0619843   0.05591873 -0.08550402 -0.08185065\n",
      " -0.05578732 -0.09064139 -0.01335919 -0.07727531  0.02775419 -0.08254696\n",
      "  0.04840679  0.02586558  0.00663981 -0.06776338 -0.07152627  0.01210419\n",
      " -0.00852732 -0.01058301 -0.1619424   0.02026587 -0.01388948  0.00189575\n",
      "  0.03454833  0.05086273  0.03521772 -0.03332255 -0.00988645  0.02418481\n",
      "  0.05226289  0.02611434  0.10866518  0.05978051 -0.08198778 -0.02986844\n",
      " -0.06233634  0.10071989 -0.03119567 -0.11822581  0.01693426 -0.0608105\n",
      " -0.05698326 -0.10583136 -0.13607931  0.02407905 -0.03629255  0.02076313\n",
      " -0.04213256 -0.06741277 -0.06263477  0.04730252  0.03838075  0.10238209\n",
      " -0.07200056 -0.0440848   0.01331067 -0.00238228  0.03103796 -0.05993534\n",
      "  0.05239792 -0.04665108 -0.04364431 -0.00259019  0.00851675  0.02730579\n",
      "  0.07337386  0.01205894 -0.00536067 -0.02512251  0.0261053  -0.0362059\n",
      "  0.03148042 -0.07700469 -0.05770168 -0.13220859  0.01733035 -0.16073275\n",
      "  0.02587633  0.0902601   0.05141979 -0.02696803  0.02988728  0.03869817\n",
      " -0.11350647 -0.02808783  0.02539633 -0.13162673 -0.05006778 -0.00478651\n",
      " -0.05001132 -0.08984482  0.01518493 -0.03974978  0.07634825  0.01875645\n",
      " -0.00474618  0.01459583 -0.04914725 -0.00623341 -0.02581113  0.01803032\n",
      "  0.09076595  0.02429139 -0.02663588 -0.1329482  -0.00831683  0.12574844\n",
      " -0.21781795  0.07475684 -0.06326763 -0.06678488  0.03054501 -0.04050571\n",
      "  0.00973472 -0.06373728  0.1009348  -0.03326001  0.02156528 -0.02337086\n",
      " -0.00653275  0.03182182 -0.05427     0.02559574], shape=(250,), dtype=float32)\n"
     ]
    }
   ],
   "source": [
    "print(embeddings[0])"
   ]
  },
  {
   "cell_type": "code",
   "execution_count": 7,
   "metadata": {
    "colab": {
     "base_uri": "https://localhost:8080/",
     "height": 199
    },
    "colab_type": "code",
    "id": "E-2WPxawC8-A",
    "outputId": "9f1822d1-e6e3-4845-ff1f-87081fec464c"
   },
   "outputs": [
    {
     "name": "stdout",
     "output_type": "stream",
     "text": [
      "( coffee , coffee ) 1.0\n",
      "( coffee , cafe ) 0.5485246\n",
      "( coffee , football ) -0.0049367556\n",
      "( coffee , soccer ) 0.03198619\n",
      "( cafe , cafe ) 1.0\n",
      "( cafe , football ) 0.0658585\n",
      "( cafe , soccer ) 0.15623057\n",
      "( football , football ) 1.0\n",
      "( football , soccer ) 0.7606856\n",
      "( soccer , soccer ) 1.0\n"
     ]
    }
   ],
   "source": [
    "# Compute similarity matrix. Higher score indicates greater similarity.\n",
    "for i in range(len(words)):\n",
    "    for j in range(i,len(words)):\n",
    "        print(\"(\",words[i], \",\", words[j],\")\",np.inner(embeddings[i], embeddings[j]))"
   ]
  },
  {
   "cell_type": "code",
   "execution_count": null,
   "metadata": {
    "colab": {},
    "colab_type": "code",
    "id": "3hGEv4QxC8-L"
   },
   "outputs": [],
   "source": []
  }
 ],
 "metadata": {
  "colab": {
   "name": "09.Word2Vec.ipynb",
   "provenance": []
  },
  "kernelspec": {
   "display_name": "Python 3",
   "language": "python",
   "name": "python3"
  },
  "language_info": {
   "codemirror_mode": {
    "name": "ipython",
    "version": 3
   },
   "file_extension": ".py",
   "mimetype": "text/x-python",
   "name": "python",
   "nbconvert_exporter": "python",
   "pygments_lexer": "ipython3",
   "version": "3.7.3"
  },
  "toc": {
   "base_numbering": 1,
   "nav_menu": {},
   "number_sections": true,
   "sideBar": true,
   "skip_h1_title": false,
   "title_cell": "Table of Contents",
   "title_sidebar": "Contents",
   "toc_cell": false,
   "toc_position": {},
   "toc_section_display": true,
   "toc_window_display": false
  },
  "varInspector": {
   "cols": {
    "lenName": 16,
    "lenType": 16,
    "lenVar": 40
   },
   "kernels_config": {
    "python": {
     "delete_cmd_postfix": "",
     "delete_cmd_prefix": "del ",
     "library": "var_list.py",
     "varRefreshCmd": "print(var_dic_list())"
    },
    "r": {
     "delete_cmd_postfix": ") ",
     "delete_cmd_prefix": "rm(",
     "library": "var_list.r",
     "varRefreshCmd": "cat(var_dic_list()) "
    }
   },
   "types_to_exclude": [
    "module",
    "function",
    "builtin_function_or_method",
    "instance",
    "_Feature"
   ],
   "window_display": false
  }
 },
 "nbformat": 4,
 "nbformat_minor": 1
}
